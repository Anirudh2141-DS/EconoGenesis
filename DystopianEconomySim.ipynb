{
 "cells": [
  {
   "cell_type": "code",
   "execution_count": 106,
   "id": "6cf3abee-d8fb-489a-92e5-57ca262e48d6",
   "metadata": {},
   "outputs": [
    {
     "name": "stdout",
     "output_type": "stream",
     "text": [
      "Requirement already satisfied: numpy in c:\\anaconda3\\lib\\site-packages (1.26.4)\n",
      "Requirement already satisfied: pandas in c:\\anaconda3\\lib\\site-packages (2.2.2)\n",
      "Requirement already satisfied: python-dateutil>=2.8.2 in c:\\anaconda3\\lib\\site-packages (from pandas) (2.9.0.post0)\n",
      "Requirement already satisfied: pytz>=2020.1 in c:\\anaconda3\\lib\\site-packages (from pandas) (2024.1)\n",
      "Requirement already satisfied: tzdata>=2022.7 in c:\\anaconda3\\lib\\site-packages (from pandas) (2023.3)\n",
      "Requirement already satisfied: six>=1.5 in c:\\anaconda3\\lib\\site-packages (from python-dateutil>=2.8.2->pandas) (1.16.0)\n",
      "Requirement already satisfied: matplotlib in c:\\anaconda3\\lib\\site-packages (3.9.2)\n",
      "Requirement already satisfied: seaborn in c:\\anaconda3\\lib\\site-packages (0.13.2)\n",
      "Requirement already satisfied: plotly in c:\\anaconda3\\lib\\site-packages (5.24.1)\n",
      "Requirement already satisfied: contourpy>=1.0.1 in c:\\anaconda3\\lib\\site-packages (from matplotlib) (1.2.0)\n",
      "Requirement already satisfied: cycler>=0.10 in c:\\anaconda3\\lib\\site-packages (from matplotlib) (0.11.0)\n",
      "Requirement already satisfied: fonttools>=4.22.0 in c:\\anaconda3\\lib\\site-packages (from matplotlib) (4.51.0)\n",
      "Requirement already satisfied: kiwisolver>=1.3.1 in c:\\anaconda3\\lib\\site-packages (from matplotlib) (1.4.4)\n",
      "Requirement already satisfied: numpy>=1.23 in c:\\anaconda3\\lib\\site-packages (from matplotlib) (1.26.4)\n",
      "Requirement already satisfied: packaging>=20.0 in c:\\anaconda3\\lib\\site-packages (from matplotlib) (24.1)\n",
      "Requirement already satisfied: pillow>=8 in c:\\anaconda3\\lib\\site-packages (from matplotlib) (10.4.0)\n",
      "Requirement already satisfied: pyparsing>=2.3.1 in c:\\anaconda3\\lib\\site-packages (from matplotlib) (3.1.2)\n",
      "Requirement already satisfied: python-dateutil>=2.7 in c:\\anaconda3\\lib\\site-packages (from matplotlib) (2.9.0.post0)\n",
      "Requirement already satisfied: pandas>=1.2 in c:\\anaconda3\\lib\\site-packages (from seaborn) (2.2.2)\n",
      "Requirement already satisfied: tenacity>=6.2.0 in c:\\anaconda3\\lib\\site-packages (from plotly) (8.2.3)\n",
      "Requirement already satisfied: pytz>=2020.1 in c:\\anaconda3\\lib\\site-packages (from pandas>=1.2->seaborn) (2024.1)\n",
      "Requirement already satisfied: tzdata>=2022.7 in c:\\anaconda3\\lib\\site-packages (from pandas>=1.2->seaborn) (2023.3)\n",
      "Requirement already satisfied: six>=1.5 in c:\\anaconda3\\lib\\site-packages (from python-dateutil>=2.7->matplotlib) (1.16.0)\n",
      "Requirement already satisfied: scikit-learn in c:\\anaconda3\\lib\\site-packages (1.5.1)\n",
      "Requirement already satisfied: numpy>=1.19.5 in c:\\anaconda3\\lib\\site-packages (from scikit-learn) (1.26.4)\n",
      "Requirement already satisfied: scipy>=1.6.0 in c:\\anaconda3\\lib\\site-packages (from scikit-learn) (1.13.1)\n",
      "Requirement already satisfied: joblib>=1.2.0 in c:\\anaconda3\\lib\\site-packages (from scikit-learn) (1.4.2)\n",
      "Requirement already satisfied: threadpoolctl>=3.1.0 in c:\\anaconda3\\lib\\site-packages (from scikit-learn) (3.5.0)\n",
      "Requirement already satisfied: xgboost in c:\\anaconda3\\lib\\site-packages (3.0.0)\n",
      "Requirement already satisfied: lightgbm in c:\\anaconda3\\lib\\site-packages (4.6.0)\n",
      "Requirement already satisfied: numpy in c:\\anaconda3\\lib\\site-packages (from xgboost) (1.26.4)\n",
      "Requirement already satisfied: scipy in c:\\anaconda3\\lib\\site-packages (from xgboost) (1.13.1)\n",
      "Requirement already satisfied: ipywidgets in c:\\anaconda3\\lib\\site-packages (7.8.1)\n",
      "Requirement already satisfied: comm>=0.1.3 in c:\\anaconda3\\lib\\site-packages (from ipywidgets) (0.2.1)\n",
      "Requirement already satisfied: ipython-genutils~=0.2.0 in c:\\anaconda3\\lib\\site-packages (from ipywidgets) (0.2.0)\n",
      "Requirement already satisfied: traitlets>=4.3.1 in c:\\anaconda3\\lib\\site-packages (from ipywidgets) (5.14.3)\n",
      "Requirement already satisfied: widgetsnbextension~=3.6.6 in c:\\anaconda3\\lib\\site-packages (from ipywidgets) (3.6.6)\n",
      "Requirement already satisfied: ipython>=4.0.0 in c:\\anaconda3\\lib\\site-packages (from ipywidgets) (8.27.0)\n",
      "Requirement already satisfied: jupyterlab-widgets<3,>=1.0.0 in c:\\anaconda3\\lib\\site-packages (from ipywidgets) (1.0.0)\n",
      "Requirement already satisfied: decorator in c:\\anaconda3\\lib\\site-packages (from ipython>=4.0.0->ipywidgets) (5.1.1)\n",
      "Requirement already satisfied: jedi>=0.16 in c:\\anaconda3\\lib\\site-packages (from ipython>=4.0.0->ipywidgets) (0.19.1)\n",
      "Requirement already satisfied: matplotlib-inline in c:\\anaconda3\\lib\\site-packages (from ipython>=4.0.0->ipywidgets) (0.1.6)\n",
      "Requirement already satisfied: prompt-toolkit<3.1.0,>=3.0.41 in c:\\anaconda3\\lib\\site-packages (from ipython>=4.0.0->ipywidgets) (3.0.43)\n",
      "Requirement already satisfied: pygments>=2.4.0 in c:\\anaconda3\\lib\\site-packages (from ipython>=4.0.0->ipywidgets) (2.15.1)\n",
      "Requirement already satisfied: stack-data in c:\\anaconda3\\lib\\site-packages (from ipython>=4.0.0->ipywidgets) (0.2.0)\n",
      "Requirement already satisfied: colorama in c:\\anaconda3\\lib\\site-packages (from ipython>=4.0.0->ipywidgets) (0.4.6)\n",
      "Requirement already satisfied: notebook>=4.4.1 in c:\\anaconda3\\lib\\site-packages (from widgetsnbextension~=3.6.6->ipywidgets) (7.2.2)\n",
      "Requirement already satisfied: parso<0.9.0,>=0.8.3 in c:\\anaconda3\\lib\\site-packages (from jedi>=0.16->ipython>=4.0.0->ipywidgets) (0.8.3)\n",
      "Requirement already satisfied: jupyter-server<3,>=2.4.0 in c:\\anaconda3\\lib\\site-packages (from notebook>=4.4.1->widgetsnbextension~=3.6.6->ipywidgets) (2.14.1)\n",
      "Requirement already satisfied: jupyterlab-server<3,>=2.27.1 in c:\\anaconda3\\lib\\site-packages (from notebook>=4.4.1->widgetsnbextension~=3.6.6->ipywidgets) (2.27.3)\n",
      "Requirement already satisfied: jupyterlab<4.3,>=4.2.0 in c:\\anaconda3\\lib\\site-packages (from notebook>=4.4.1->widgetsnbextension~=3.6.6->ipywidgets) (4.2.5)\n",
      "Requirement already satisfied: notebook-shim<0.3,>=0.2 in c:\\anaconda3\\lib\\site-packages (from notebook>=4.4.1->widgetsnbextension~=3.6.6->ipywidgets) (0.2.3)\n",
      "Requirement already satisfied: tornado>=6.2.0 in c:\\anaconda3\\lib\\site-packages (from notebook>=4.4.1->widgetsnbextension~=3.6.6->ipywidgets) (6.4.1)\n",
      "Requirement already satisfied: wcwidth in c:\\anaconda3\\lib\\site-packages (from prompt-toolkit<3.1.0,>=3.0.41->ipython>=4.0.0->ipywidgets) (0.2.5)\n",
      "Requirement already satisfied: executing in c:\\anaconda3\\lib\\site-packages (from stack-data->ipython>=4.0.0->ipywidgets) (0.8.3)\n",
      "Requirement already satisfied: asttokens in c:\\anaconda3\\lib\\site-packages (from stack-data->ipython>=4.0.0->ipywidgets) (2.0.5)\n",
      "Requirement already satisfied: pure-eval in c:\\anaconda3\\lib\\site-packages (from stack-data->ipython>=4.0.0->ipywidgets) (0.2.2)\n",
      "Requirement already satisfied: anyio>=3.1.0 in c:\\anaconda3\\lib\\site-packages (from jupyter-server<3,>=2.4.0->notebook>=4.4.1->widgetsnbextension~=3.6.6->ipywidgets) (4.2.0)\n",
      "Requirement already satisfied: argon2-cffi>=21.1 in c:\\anaconda3\\lib\\site-packages (from jupyter-server<3,>=2.4.0->notebook>=4.4.1->widgetsnbextension~=3.6.6->ipywidgets) (21.3.0)\n",
      "Requirement already satisfied: jinja2>=3.0.3 in c:\\anaconda3\\lib\\site-packages (from jupyter-server<3,>=2.4.0->notebook>=4.4.1->widgetsnbextension~=3.6.6->ipywidgets) (3.1.4)\n",
      "Requirement already satisfied: jupyter-client>=7.4.4 in c:\\anaconda3\\lib\\site-packages (from jupyter-server<3,>=2.4.0->notebook>=4.4.1->widgetsnbextension~=3.6.6->ipywidgets) (8.6.0)\n",
      "Requirement already satisfied: jupyter-core!=5.0.*,>=4.12 in c:\\anaconda3\\lib\\site-packages (from jupyter-server<3,>=2.4.0->notebook>=4.4.1->widgetsnbextension~=3.6.6->ipywidgets) (5.7.2)\n",
      "Requirement already satisfied: jupyter-events>=0.9.0 in c:\\anaconda3\\lib\\site-packages (from jupyter-server<3,>=2.4.0->notebook>=4.4.1->widgetsnbextension~=3.6.6->ipywidgets) (0.10.0)\n",
      "Requirement already satisfied: jupyter-server-terminals>=0.4.4 in c:\\anaconda3\\lib\\site-packages (from jupyter-server<3,>=2.4.0->notebook>=4.4.1->widgetsnbextension~=3.6.6->ipywidgets) (0.4.4)\n",
      "Requirement already satisfied: nbconvert>=6.4.4 in c:\\anaconda3\\lib\\site-packages (from jupyter-server<3,>=2.4.0->notebook>=4.4.1->widgetsnbextension~=3.6.6->ipywidgets) (7.16.4)\n",
      "Requirement already satisfied: nbformat>=5.3.0 in c:\\anaconda3\\lib\\site-packages (from jupyter-server<3,>=2.4.0->notebook>=4.4.1->widgetsnbextension~=3.6.6->ipywidgets) (5.10.4)\n",
      "Requirement already satisfied: overrides>=5.0 in c:\\anaconda3\\lib\\site-packages (from jupyter-server<3,>=2.4.0->notebook>=4.4.1->widgetsnbextension~=3.6.6->ipywidgets) (7.4.0)\n",
      "Requirement already satisfied: packaging>=22.0 in c:\\anaconda3\\lib\\site-packages (from jupyter-server<3,>=2.4.0->notebook>=4.4.1->widgetsnbextension~=3.6.6->ipywidgets) (24.1)\n",
      "Requirement already satisfied: prometheus-client>=0.9 in c:\\anaconda3\\lib\\site-packages (from jupyter-server<3,>=2.4.0->notebook>=4.4.1->widgetsnbextension~=3.6.6->ipywidgets) (0.14.1)\n",
      "Requirement already satisfied: pywinpty>=2.0.1 in c:\\anaconda3\\lib\\site-packages (from jupyter-server<3,>=2.4.0->notebook>=4.4.1->widgetsnbextension~=3.6.6->ipywidgets) (2.0.10)\n",
      "Requirement already satisfied: pyzmq>=24 in c:\\anaconda3\\lib\\site-packages (from jupyter-server<3,>=2.4.0->notebook>=4.4.1->widgetsnbextension~=3.6.6->ipywidgets) (25.1.2)\n",
      "Requirement already satisfied: send2trash>=1.8.2 in c:\\anaconda3\\lib\\site-packages (from jupyter-server<3,>=2.4.0->notebook>=4.4.1->widgetsnbextension~=3.6.6->ipywidgets) (1.8.2)\n",
      "Requirement already satisfied: terminado>=0.8.3 in c:\\anaconda3\\lib\\site-packages (from jupyter-server<3,>=2.4.0->notebook>=4.4.1->widgetsnbextension~=3.6.6->ipywidgets) (0.17.1)\n",
      "Requirement already satisfied: websocket-client>=1.7 in c:\\anaconda3\\lib\\site-packages (from jupyter-server<3,>=2.4.0->notebook>=4.4.1->widgetsnbextension~=3.6.6->ipywidgets) (1.8.0)\n",
      "Requirement already satisfied: async-lru>=1.0.0 in c:\\anaconda3\\lib\\site-packages (from jupyterlab<4.3,>=4.2.0->notebook>=4.4.1->widgetsnbextension~=3.6.6->ipywidgets) (2.0.4)\n",
      "Requirement already satisfied: httpx>=0.25.0 in c:\\anaconda3\\lib\\site-packages (from jupyterlab<4.3,>=4.2.0->notebook>=4.4.1->widgetsnbextension~=3.6.6->ipywidgets) (0.27.0)\n",
      "Requirement already satisfied: ipykernel>=6.5.0 in c:\\anaconda3\\lib\\site-packages (from jupyterlab<4.3,>=4.2.0->notebook>=4.4.1->widgetsnbextension~=3.6.6->ipywidgets) (6.28.0)\n",
      "Requirement already satisfied: jupyter-lsp>=2.0.0 in c:\\anaconda3\\lib\\site-packages (from jupyterlab<4.3,>=4.2.0->notebook>=4.4.1->widgetsnbextension~=3.6.6->ipywidgets) (2.2.0)\n",
      "Requirement already satisfied: setuptools>=40.1.0 in c:\\anaconda3\\lib\\site-packages (from jupyterlab<4.3,>=4.2.0->notebook>=4.4.1->widgetsnbextension~=3.6.6->ipywidgets) (75.1.0)\n",
      "Requirement already satisfied: babel>=2.10 in c:\\anaconda3\\lib\\site-packages (from jupyterlab-server<3,>=2.27.1->notebook>=4.4.1->widgetsnbextension~=3.6.6->ipywidgets) (2.11.0)\n",
      "Requirement already satisfied: json5>=0.9.0 in c:\\anaconda3\\lib\\site-packages (from jupyterlab-server<3,>=2.27.1->notebook>=4.4.1->widgetsnbextension~=3.6.6->ipywidgets) (0.9.6)\n",
      "Requirement already satisfied: jsonschema>=4.18.0 in c:\\anaconda3\\lib\\site-packages (from jupyterlab-server<3,>=2.27.1->notebook>=4.4.1->widgetsnbextension~=3.6.6->ipywidgets) (4.23.0)\n",
      "Requirement already satisfied: requests>=2.31 in c:\\anaconda3\\lib\\site-packages (from jupyterlab-server<3,>=2.27.1->notebook>=4.4.1->widgetsnbextension~=3.6.6->ipywidgets) (2.32.3)\n",
      "Requirement already satisfied: six in c:\\anaconda3\\lib\\site-packages (from asttokens->stack-data->ipython>=4.0.0->ipywidgets) (1.16.0)\n",
      "Requirement already satisfied: idna>=2.8 in c:\\anaconda3\\lib\\site-packages (from anyio>=3.1.0->jupyter-server<3,>=2.4.0->notebook>=4.4.1->widgetsnbextension~=3.6.6->ipywidgets) (3.7)\n",
      "Requirement already satisfied: sniffio>=1.1 in c:\\anaconda3\\lib\\site-packages (from anyio>=3.1.0->jupyter-server<3,>=2.4.0->notebook>=4.4.1->widgetsnbextension~=3.6.6->ipywidgets) (1.3.0)\n",
      "Requirement already satisfied: argon2-cffi-bindings in c:\\anaconda3\\lib\\site-packages (from argon2-cffi>=21.1->jupyter-server<3,>=2.4.0->notebook>=4.4.1->widgetsnbextension~=3.6.6->ipywidgets) (21.2.0)\n",
      "Requirement already satisfied: pytz>=2015.7 in c:\\anaconda3\\lib\\site-packages (from babel>=2.10->jupyterlab-server<3,>=2.27.1->notebook>=4.4.1->widgetsnbextension~=3.6.6->ipywidgets) (2024.1)\n",
      "Requirement already satisfied: certifi in c:\\anaconda3\\lib\\site-packages (from httpx>=0.25.0->jupyterlab<4.3,>=4.2.0->notebook>=4.4.1->widgetsnbextension~=3.6.6->ipywidgets) (2025.1.31)\n",
      "Requirement already satisfied: httpcore==1.* in c:\\anaconda3\\lib\\site-packages (from httpx>=0.25.0->jupyterlab<4.3,>=4.2.0->notebook>=4.4.1->widgetsnbextension~=3.6.6->ipywidgets) (1.0.2)\n",
      "Requirement already satisfied: h11<0.15,>=0.13 in c:\\anaconda3\\lib\\site-packages (from httpcore==1.*->httpx>=0.25.0->jupyterlab<4.3,>=4.2.0->notebook>=4.4.1->widgetsnbextension~=3.6.6->ipywidgets) (0.14.0)\n",
      "Requirement already satisfied: debugpy>=1.6.5 in c:\\anaconda3\\lib\\site-packages (from ipykernel>=6.5.0->jupyterlab<4.3,>=4.2.0->notebook>=4.4.1->widgetsnbextension~=3.6.6->ipywidgets) (1.6.7)\n",
      "Requirement already satisfied: nest-asyncio in c:\\anaconda3\\lib\\site-packages (from ipykernel>=6.5.0->jupyterlab<4.3,>=4.2.0->notebook>=4.4.1->widgetsnbextension~=3.6.6->ipywidgets) (1.6.0)\n",
      "Requirement already satisfied: psutil in c:\\anaconda3\\lib\\site-packages (from ipykernel>=6.5.0->jupyterlab<4.3,>=4.2.0->notebook>=4.4.1->widgetsnbextension~=3.6.6->ipywidgets) (5.9.0)\n",
      "Requirement already satisfied: MarkupSafe>=2.0 in c:\\anaconda3\\lib\\site-packages (from jinja2>=3.0.3->jupyter-server<3,>=2.4.0->notebook>=4.4.1->widgetsnbextension~=3.6.6->ipywidgets) (2.1.3)\n",
      "Requirement already satisfied: attrs>=22.2.0 in c:\\anaconda3\\lib\\site-packages (from jsonschema>=4.18.0->jupyterlab-server<3,>=2.27.1->notebook>=4.4.1->widgetsnbextension~=3.6.6->ipywidgets) (23.1.0)\n",
      "Requirement already satisfied: jsonschema-specifications>=2023.03.6 in c:\\anaconda3\\lib\\site-packages (from jsonschema>=4.18.0->jupyterlab-server<3,>=2.27.1->notebook>=4.4.1->widgetsnbextension~=3.6.6->ipywidgets) (2023.7.1)\n",
      "Requirement already satisfied: referencing>=0.28.4 in c:\\anaconda3\\lib\\site-packages (from jsonschema>=4.18.0->jupyterlab-server<3,>=2.27.1->notebook>=4.4.1->widgetsnbextension~=3.6.6->ipywidgets) (0.30.2)\n",
      "Requirement already satisfied: rpds-py>=0.7.1 in c:\\anaconda3\\lib\\site-packages (from jsonschema>=4.18.0->jupyterlab-server<3,>=2.27.1->notebook>=4.4.1->widgetsnbextension~=3.6.6->ipywidgets) (0.10.6)\n",
      "Requirement already satisfied: python-dateutil>=2.8.2 in c:\\anaconda3\\lib\\site-packages (from jupyter-client>=7.4.4->jupyter-server<3,>=2.4.0->notebook>=4.4.1->widgetsnbextension~=3.6.6->ipywidgets) (2.9.0.post0)\n",
      "Requirement already satisfied: platformdirs>=2.5 in c:\\anaconda3\\lib\\site-packages (from jupyter-core!=5.0.*,>=4.12->jupyter-server<3,>=2.4.0->notebook>=4.4.1->widgetsnbextension~=3.6.6->ipywidgets) (3.10.0)\n",
      "Requirement already satisfied: pywin32>=300 in c:\\anaconda3\\lib\\site-packages (from jupyter-core!=5.0.*,>=4.12->jupyter-server<3,>=2.4.0->notebook>=4.4.1->widgetsnbextension~=3.6.6->ipywidgets) (305.1)\n",
      "Requirement already satisfied: python-json-logger>=2.0.4 in c:\\anaconda3\\lib\\site-packages (from jupyter-events>=0.9.0->jupyter-server<3,>=2.4.0->notebook>=4.4.1->widgetsnbextension~=3.6.6->ipywidgets) (2.0.7)\n",
      "Requirement already satisfied: pyyaml>=5.3 in c:\\anaconda3\\lib\\site-packages (from jupyter-events>=0.9.0->jupyter-server<3,>=2.4.0->notebook>=4.4.1->widgetsnbextension~=3.6.6->ipywidgets) (6.0.1)\n",
      "Requirement already satisfied: rfc3339-validator in c:\\anaconda3\\lib\\site-packages (from jupyter-events>=0.9.0->jupyter-server<3,>=2.4.0->notebook>=4.4.1->widgetsnbextension~=3.6.6->ipywidgets) (0.1.4)\n",
      "Requirement already satisfied: rfc3986-validator>=0.1.1 in c:\\anaconda3\\lib\\site-packages (from jupyter-events>=0.9.0->jupyter-server<3,>=2.4.0->notebook>=4.4.1->widgetsnbextension~=3.6.6->ipywidgets) (0.1.1)\n",
      "Requirement already satisfied: beautifulsoup4 in c:\\anaconda3\\lib\\site-packages (from nbconvert>=6.4.4->jupyter-server<3,>=2.4.0->notebook>=4.4.1->widgetsnbextension~=3.6.6->ipywidgets) (4.12.3)\n",
      "Requirement already satisfied: bleach!=5.0.0 in c:\\anaconda3\\lib\\site-packages (from nbconvert>=6.4.4->jupyter-server<3,>=2.4.0->notebook>=4.4.1->widgetsnbextension~=3.6.6->ipywidgets) (4.1.0)\n",
      "Requirement already satisfied: defusedxml in c:\\anaconda3\\lib\\site-packages (from nbconvert>=6.4.4->jupyter-server<3,>=2.4.0->notebook>=4.4.1->widgetsnbextension~=3.6.6->ipywidgets) (0.7.1)\n",
      "Requirement already satisfied: jupyterlab-pygments in c:\\anaconda3\\lib\\site-packages (from nbconvert>=6.4.4->jupyter-server<3,>=2.4.0->notebook>=4.4.1->widgetsnbextension~=3.6.6->ipywidgets) (0.1.2)\n",
      "Requirement already satisfied: mistune<4,>=2.0.3 in c:\\anaconda3\\lib\\site-packages (from nbconvert>=6.4.4->jupyter-server<3,>=2.4.0->notebook>=4.4.1->widgetsnbextension~=3.6.6->ipywidgets) (2.0.4)\n",
      "Requirement already satisfied: nbclient>=0.5.0 in c:\\anaconda3\\lib\\site-packages (from nbconvert>=6.4.4->jupyter-server<3,>=2.4.0->notebook>=4.4.1->widgetsnbextension~=3.6.6->ipywidgets) (0.8.0)\n",
      "Requirement already satisfied: pandocfilters>=1.4.1 in c:\\anaconda3\\lib\\site-packages (from nbconvert>=6.4.4->jupyter-server<3,>=2.4.0->notebook>=4.4.1->widgetsnbextension~=3.6.6->ipywidgets) (1.5.0)\n",
      "Requirement already satisfied: tinycss2 in c:\\anaconda3\\lib\\site-packages (from nbconvert>=6.4.4->jupyter-server<3,>=2.4.0->notebook>=4.4.1->widgetsnbextension~=3.6.6->ipywidgets) (1.2.1)\n",
      "Requirement already satisfied: fastjsonschema>=2.15 in c:\\anaconda3\\lib\\site-packages (from nbformat>=5.3.0->jupyter-server<3,>=2.4.0->notebook>=4.4.1->widgetsnbextension~=3.6.6->ipywidgets) (2.16.2)\n",
      "Requirement already satisfied: charset-normalizer<4,>=2 in c:\\anaconda3\\lib\\site-packages (from requests>=2.31->jupyterlab-server<3,>=2.27.1->notebook>=4.4.1->widgetsnbextension~=3.6.6->ipywidgets) (3.3.2)\n",
      "Requirement already satisfied: urllib3<3,>=1.21.1 in c:\\anaconda3\\lib\\site-packages (from requests>=2.31->jupyterlab-server<3,>=2.27.1->notebook>=4.4.1->widgetsnbextension~=3.6.6->ipywidgets) (2.2.3)\n",
      "Requirement already satisfied: webencodings in c:\\anaconda3\\lib\\site-packages (from bleach!=5.0.0->nbconvert>=6.4.4->jupyter-server<3,>=2.4.0->notebook>=4.4.1->widgetsnbextension~=3.6.6->ipywidgets) (0.5.1)\n",
      "Requirement already satisfied: fqdn in c:\\anaconda3\\lib\\site-packages (from jsonschema[format-nongpl]>=4.18.0->jupyter-events>=0.9.0->jupyter-server<3,>=2.4.0->notebook>=4.4.1->widgetsnbextension~=3.6.6->ipywidgets) (1.5.1)\n",
      "Requirement already satisfied: isoduration in c:\\anaconda3\\lib\\site-packages (from jsonschema[format-nongpl]>=4.18.0->jupyter-events>=0.9.0->jupyter-server<3,>=2.4.0->notebook>=4.4.1->widgetsnbextension~=3.6.6->ipywidgets) (20.11.0)\n",
      "Requirement already satisfied: jsonpointer>1.13 in c:\\anaconda3\\lib\\site-packages (from jsonschema[format-nongpl]>=4.18.0->jupyter-events>=0.9.0->jupyter-server<3,>=2.4.0->notebook>=4.4.1->widgetsnbextension~=3.6.6->ipywidgets) (2.1)\n",
      "Requirement already satisfied: uri-template in c:\\anaconda3\\lib\\site-packages (from jsonschema[format-nongpl]>=4.18.0->jupyter-events>=0.9.0->jupyter-server<3,>=2.4.0->notebook>=4.4.1->widgetsnbextension~=3.6.6->ipywidgets) (1.3.0)\n",
      "Requirement already satisfied: webcolors>=24.6.0 in c:\\anaconda3\\lib\\site-packages (from jsonschema[format-nongpl]>=4.18.0->jupyter-events>=0.9.0->jupyter-server<3,>=2.4.0->notebook>=4.4.1->widgetsnbextension~=3.6.6->ipywidgets) (24.11.1)\n",
      "Requirement already satisfied: cffi>=1.0.1 in c:\\anaconda3\\lib\\site-packages (from argon2-cffi-bindings->argon2-cffi>=21.1->jupyter-server<3,>=2.4.0->notebook>=4.4.1->widgetsnbextension~=3.6.6->ipywidgets) (1.17.1)\n",
      "Requirement already satisfied: soupsieve>1.2 in c:\\anaconda3\\lib\\site-packages (from beautifulsoup4->nbconvert>=6.4.4->jupyter-server<3,>=2.4.0->notebook>=4.4.1->widgetsnbextension~=3.6.6->ipywidgets) (2.5)\n",
      "Requirement already satisfied: pycparser in c:\\anaconda3\\lib\\site-packages (from cffi>=1.0.1->argon2-cffi-bindings->argon2-cffi>=21.1->jupyter-server<3,>=2.4.0->notebook>=4.4.1->widgetsnbextension~=3.6.6->ipywidgets) (2.21)\n",
      "Requirement already satisfied: arrow>=0.15.0 in c:\\anaconda3\\lib\\site-packages (from isoduration->jsonschema[format-nongpl]>=4.18.0->jupyter-events>=0.9.0->jupyter-server<3,>=2.4.0->notebook>=4.4.1->widgetsnbextension~=3.6.6->ipywidgets) (1.2.3)\n",
      "Requirement already satisfied: transformers in c:\\anaconda3\\lib\\site-packages (4.52.0.dev0)\n",
      "Requirement already satisfied: filelock in c:\\anaconda3\\lib\\site-packages (from transformers) (3.13.1)\n",
      "Requirement already satisfied: huggingface-hub<1.0,>=0.30.0 in c:\\anaconda3\\lib\\site-packages (from transformers) (0.30.2)\n",
      "Requirement already satisfied: numpy>=1.17 in c:\\anaconda3\\lib\\site-packages (from transformers) (1.26.4)\n",
      "Requirement already satisfied: packaging>=20.0 in c:\\anaconda3\\lib\\site-packages (from transformers) (24.1)\n",
      "Requirement already satisfied: pyyaml>=5.1 in c:\\anaconda3\\lib\\site-packages (from transformers) (6.0.1)\n",
      "Requirement already satisfied: regex!=2019.12.17 in c:\\anaconda3\\lib\\site-packages (from transformers) (2024.9.11)\n",
      "Requirement already satisfied: requests in c:\\anaconda3\\lib\\site-packages (from transformers) (2.32.3)\n",
      "Requirement already satisfied: tokenizers<0.22,>=0.21 in c:\\anaconda3\\lib\\site-packages (from transformers) (0.21.1)\n",
      "Requirement already satisfied: safetensors>=0.4.3 in c:\\anaconda3\\lib\\site-packages (from transformers) (0.5.3)\n",
      "Requirement already satisfied: tqdm>=4.27 in c:\\anaconda3\\lib\\site-packages (from transformers) (4.66.5)\n",
      "Requirement already satisfied: fsspec>=2023.5.0 in c:\\anaconda3\\lib\\site-packages (from huggingface-hub<1.0,>=0.30.0->transformers) (2024.6.1)\n",
      "Requirement already satisfied: typing-extensions>=3.7.4.3 in c:\\anaconda3\\lib\\site-packages (from huggingface-hub<1.0,>=0.30.0->transformers) (4.11.0)\n",
      "Requirement already satisfied: colorama in c:\\anaconda3\\lib\\site-packages (from tqdm>=4.27->transformers) (0.4.6)\n",
      "Requirement already satisfied: charset-normalizer<4,>=2 in c:\\anaconda3\\lib\\site-packages (from requests->transformers) (3.3.2)\n",
      "Requirement already satisfied: idna<4,>=2.5 in c:\\anaconda3\\lib\\site-packages (from requests->transformers) (3.7)\n",
      "Requirement already satisfied: urllib3<3,>=1.21.1 in c:\\anaconda3\\lib\\site-packages (from requests->transformers) (2.2.3)\n",
      "Requirement already satisfied: certifi>=2017.4.17 in c:\\anaconda3\\lib\\site-packages (from requests->transformers) (2025.1.31)\n",
      "Requirement already satisfied: torch in c:\\anaconda3\\lib\\site-packages (2.6.0)\n",
      "Requirement already satisfied: filelock in c:\\anaconda3\\lib\\site-packages (from torch) (3.13.1)\n",
      "Requirement already satisfied: typing-extensions>=4.10.0 in c:\\anaconda3\\lib\\site-packages (from torch) (4.11.0)\n",
      "Requirement already satisfied: networkx in c:\\anaconda3\\lib\\site-packages (from torch) (3.3)\n",
      "Requirement already satisfied: jinja2 in c:\\anaconda3\\lib\\site-packages (from torch) (3.1.4)\n",
      "Requirement already satisfied: fsspec in c:\\anaconda3\\lib\\site-packages (from torch) (2024.6.1)\n",
      "Requirement already satisfied: setuptools in c:\\anaconda3\\lib\\site-packages (from torch) (75.1.0)\n",
      "Requirement already satisfied: sympy==1.13.1 in c:\\anaconda3\\lib\\site-packages (from torch) (1.13.1)\n",
      "Requirement already satisfied: mpmath<1.4,>=1.1.0 in c:\\anaconda3\\lib\\site-packages (from sympy==1.13.1->torch) (1.3.0)\n",
      "Requirement already satisfied: MarkupSafe>=2.0 in c:\\anaconda3\\lib\\site-packages (from jinja2->torch) (2.1.3)\n",
      "Requirement already satisfied: openai in c:\\anaconda3\\lib\\site-packages (1.76.0)\n",
      "Requirement already satisfied: anyio<5,>=3.5.0 in c:\\anaconda3\\lib\\site-packages (from openai) (4.2.0)\n",
      "Requirement already satisfied: distro<2,>=1.7.0 in c:\\anaconda3\\lib\\site-packages (from openai) (1.9.0)\n",
      "Requirement already satisfied: httpx<1,>=0.23.0 in c:\\anaconda3\\lib\\site-packages (from openai) (0.27.0)\n",
      "Requirement already satisfied: jiter<1,>=0.4.0 in c:\\anaconda3\\lib\\site-packages (from openai) (0.9.0)\n",
      "Requirement already satisfied: pydantic<3,>=1.9.0 in c:\\anaconda3\\lib\\site-packages (from openai) (2.8.2)\n",
      "Requirement already satisfied: sniffio in c:\\anaconda3\\lib\\site-packages (from openai) (1.3.0)\n",
      "Requirement already satisfied: tqdm>4 in c:\\anaconda3\\lib\\site-packages (from openai) (4.66.5)\n",
      "Requirement already satisfied: typing-extensions<5,>=4.11 in c:\\anaconda3\\lib\\site-packages (from openai) (4.11.0)\n",
      "Requirement already satisfied: idna>=2.8 in c:\\anaconda3\\lib\\site-packages (from anyio<5,>=3.5.0->openai) (3.7)\n",
      "Requirement already satisfied: certifi in c:\\anaconda3\\lib\\site-packages (from httpx<1,>=0.23.0->openai) (2025.1.31)\n",
      "Requirement already satisfied: httpcore==1.* in c:\\anaconda3\\lib\\site-packages (from httpx<1,>=0.23.0->openai) (1.0.2)\n",
      "Requirement already satisfied: h11<0.15,>=0.13 in c:\\anaconda3\\lib\\site-packages (from httpcore==1.*->httpx<1,>=0.23.0->openai) (0.14.0)\n",
      "Requirement already satisfied: annotated-types>=0.4.0 in c:\\anaconda3\\lib\\site-packages (from pydantic<3,>=1.9.0->openai) (0.6.0)\n",
      "Requirement already satisfied: pydantic-core==2.20.1 in c:\\anaconda3\\lib\\site-packages (from pydantic<3,>=1.9.0->openai) (2.20.1)\n",
      "Requirement already satisfied: colorama in c:\\anaconda3\\lib\\site-packages (from tqdm>4->openai) (0.4.6)\n",
      "Requirement already satisfied: streamlit in c:\\anaconda3\\lib\\site-packages (1.37.1)\n",
      "Requirement already satisfied: altair<6,>=4.0 in c:\\anaconda3\\lib\\site-packages (from streamlit) (5.0.1)\n",
      "Requirement already satisfied: blinker<2,>=1.0.0 in c:\\anaconda3\\lib\\site-packages (from streamlit) (1.6.2)\n",
      "Requirement already satisfied: cachetools<6,>=4.0 in c:\\anaconda3\\lib\\site-packages (from streamlit) (5.3.3)\n",
      "Requirement already satisfied: click<9,>=7.0 in c:\\anaconda3\\lib\\site-packages (from streamlit) (8.1.7)\n",
      "Requirement already satisfied: numpy<3,>=1.20 in c:\\anaconda3\\lib\\site-packages (from streamlit) (1.26.4)\n",
      "Requirement already satisfied: packaging<25,>=20 in c:\\anaconda3\\lib\\site-packages (from streamlit) (24.1)\n",
      "Requirement already satisfied: pandas<3,>=1.3.0 in c:\\anaconda3\\lib\\site-packages (from streamlit) (2.2.2)\n",
      "Requirement already satisfied: pillow<11,>=7.1.0 in c:\\anaconda3\\lib\\site-packages (from streamlit) (10.4.0)\n",
      "Requirement already satisfied: protobuf<6,>=3.20 in c:\\anaconda3\\lib\\site-packages (from streamlit) (5.29.4)\n",
      "Requirement already satisfied: pyarrow>=7.0 in c:\\anaconda3\\lib\\site-packages (from streamlit) (16.1.0)\n",
      "Requirement already satisfied: requests<3,>=2.27 in c:\\anaconda3\\lib\\site-packages (from streamlit) (2.32.3)\n",
      "Requirement already satisfied: rich<14,>=10.14.0 in c:\\anaconda3\\lib\\site-packages (from streamlit) (13.7.1)\n",
      "Requirement already satisfied: tenacity<9,>=8.1.0 in c:\\anaconda3\\lib\\site-packages (from streamlit) (8.2.3)\n",
      "Requirement already satisfied: toml<2,>=0.10.1 in c:\\anaconda3\\lib\\site-packages (from streamlit) (0.10.2)\n",
      "Requirement already satisfied: typing-extensions<5,>=4.3.0 in c:\\anaconda3\\lib\\site-packages (from streamlit) (4.11.0)\n",
      "Requirement already satisfied: gitpython!=3.1.19,<4,>=3.0.7 in c:\\anaconda3\\lib\\site-packages (from streamlit) (3.1.43)\n",
      "Requirement already satisfied: pydeck<1,>=0.8.0b4 in c:\\anaconda3\\lib\\site-packages (from streamlit) (0.8.0)\n",
      "Requirement already satisfied: tornado<7,>=6.0.3 in c:\\anaconda3\\lib\\site-packages (from streamlit) (6.4.1)\n",
      "Requirement already satisfied: watchdog<5,>=2.1.5 in c:\\anaconda3\\lib\\site-packages (from streamlit) (4.0.1)\n",
      "Requirement already satisfied: jinja2 in c:\\anaconda3\\lib\\site-packages (from altair<6,>=4.0->streamlit) (3.1.4)\n",
      "Requirement already satisfied: jsonschema>=3.0 in c:\\anaconda3\\lib\\site-packages (from altair<6,>=4.0->streamlit) (4.23.0)\n",
      "Requirement already satisfied: toolz in c:\\anaconda3\\lib\\site-packages (from altair<6,>=4.0->streamlit) (0.12.0)\n",
      "Requirement already satisfied: colorama in c:\\anaconda3\\lib\\site-packages (from click<9,>=7.0->streamlit) (0.4.6)\n",
      "Requirement already satisfied: gitdb<5,>=4.0.1 in c:\\anaconda3\\lib\\site-packages (from gitpython!=3.1.19,<4,>=3.0.7->streamlit) (4.0.7)\n",
      "Requirement already satisfied: python-dateutil>=2.8.2 in c:\\anaconda3\\lib\\site-packages (from pandas<3,>=1.3.0->streamlit) (2.9.0.post0)\n",
      "Requirement already satisfied: pytz>=2020.1 in c:\\anaconda3\\lib\\site-packages (from pandas<3,>=1.3.0->streamlit) (2024.1)\n",
      "Requirement already satisfied: tzdata>=2022.7 in c:\\anaconda3\\lib\\site-packages (from pandas<3,>=1.3.0->streamlit) (2023.3)\n",
      "Requirement already satisfied: charset-normalizer<4,>=2 in c:\\anaconda3\\lib\\site-packages (from requests<3,>=2.27->streamlit) (3.3.2)\n",
      "Requirement already satisfied: idna<4,>=2.5 in c:\\anaconda3\\lib\\site-packages (from requests<3,>=2.27->streamlit) (3.7)\n",
      "Requirement already satisfied: urllib3<3,>=1.21.1 in c:\\anaconda3\\lib\\site-packages (from requests<3,>=2.27->streamlit) (2.2.3)\n",
      "Requirement already satisfied: certifi>=2017.4.17 in c:\\anaconda3\\lib\\site-packages (from requests<3,>=2.27->streamlit) (2025.1.31)\n",
      "Requirement already satisfied: markdown-it-py>=2.2.0 in c:\\anaconda3\\lib\\site-packages (from rich<14,>=10.14.0->streamlit) (2.2.0)\n",
      "Requirement already satisfied: pygments<3.0.0,>=2.13.0 in c:\\anaconda3\\lib\\site-packages (from rich<14,>=10.14.0->streamlit) (2.15.1)\n",
      "Requirement already satisfied: smmap<5,>=3.0.1 in c:\\anaconda3\\lib\\site-packages (from gitdb<5,>=4.0.1->gitpython!=3.1.19,<4,>=3.0.7->streamlit) (4.0.0)\n",
      "Requirement already satisfied: MarkupSafe>=2.0 in c:\\anaconda3\\lib\\site-packages (from jinja2->altair<6,>=4.0->streamlit) (2.1.3)\n",
      "Requirement already satisfied: attrs>=22.2.0 in c:\\anaconda3\\lib\\site-packages (from jsonschema>=3.0->altair<6,>=4.0->streamlit) (23.1.0)\n",
      "Requirement already satisfied: jsonschema-specifications>=2023.03.6 in c:\\anaconda3\\lib\\site-packages (from jsonschema>=3.0->altair<6,>=4.0->streamlit) (2023.7.1)\n",
      "Requirement already satisfied: referencing>=0.28.4 in c:\\anaconda3\\lib\\site-packages (from jsonschema>=3.0->altair<6,>=4.0->streamlit) (0.30.2)\n",
      "Requirement already satisfied: rpds-py>=0.7.1 in c:\\anaconda3\\lib\\site-packages (from jsonschema>=3.0->altair<6,>=4.0->streamlit) (0.10.6)\n",
      "Requirement already satisfied: mdurl~=0.1 in c:\\anaconda3\\lib\\site-packages (from markdown-it-py>=2.2.0->rich<14,>=10.14.0->streamlit) (0.1.0)\n",
      "Requirement already satisfied: six>=1.5 in c:\\anaconda3\\lib\\site-packages (from python-dateutil>=2.8.2->pandas<3,>=1.3.0->streamlit) (1.16.0)\n",
      "Requirement already satisfied: google-generativeai in c:\\anaconda3\\lib\\site-packages (0.8.5)\n",
      "Requirement already satisfied: google-ai-generativelanguage==0.6.15 in c:\\anaconda3\\lib\\site-packages (from google-generativeai) (0.6.15)\n",
      "Requirement already satisfied: google-api-core in c:\\anaconda3\\lib\\site-packages (from google-generativeai) (2.24.2)\n",
      "Requirement already satisfied: google-api-python-client in c:\\anaconda3\\lib\\site-packages (from google-generativeai) (2.168.0)\n",
      "Requirement already satisfied: google-auth>=2.15.0 in c:\\anaconda3\\lib\\site-packages (from google-generativeai) (2.39.0)\n",
      "Requirement already satisfied: protobuf in c:\\anaconda3\\lib\\site-packages (from google-generativeai) (5.29.4)\n",
      "Requirement already satisfied: pydantic in c:\\anaconda3\\lib\\site-packages (from google-generativeai) (2.8.2)\n",
      "Requirement already satisfied: tqdm in c:\\anaconda3\\lib\\site-packages (from google-generativeai) (4.66.5)\n",
      "Requirement already satisfied: typing-extensions in c:\\anaconda3\\lib\\site-packages (from google-generativeai) (4.11.0)\n",
      "Requirement already satisfied: proto-plus<2.0.0dev,>=1.22.3 in c:\\anaconda3\\lib\\site-packages (from google-ai-generativelanguage==0.6.15->google-generativeai) (1.26.1)\n",
      "Requirement already satisfied: googleapis-common-protos<2.0.0,>=1.56.2 in c:\\anaconda3\\lib\\site-packages (from google-api-core->google-generativeai) (1.70.0)\n",
      "Requirement already satisfied: requests<3.0.0,>=2.18.0 in c:\\anaconda3\\lib\\site-packages (from google-api-core->google-generativeai) (2.32.3)\n",
      "Requirement already satisfied: cachetools<6.0,>=2.0.0 in c:\\anaconda3\\lib\\site-packages (from google-auth>=2.15.0->google-generativeai) (5.3.3)\n",
      "Requirement already satisfied: pyasn1-modules>=0.2.1 in c:\\anaconda3\\lib\\site-packages (from google-auth>=2.15.0->google-generativeai) (0.2.8)\n",
      "Requirement already satisfied: rsa<5,>=3.1.4 in c:\\anaconda3\\lib\\site-packages (from google-auth>=2.15.0->google-generativeai) (4.9.1)\n",
      "Requirement already satisfied: httplib2<1.0.0,>=0.19.0 in c:\\anaconda3\\lib\\site-packages (from google-api-python-client->google-generativeai) (0.22.0)\n",
      "Requirement already satisfied: google-auth-httplib2<1.0.0,>=0.2.0 in c:\\anaconda3\\lib\\site-packages (from google-api-python-client->google-generativeai) (0.2.0)\n",
      "Requirement already satisfied: uritemplate<5,>=3.0.1 in c:\\anaconda3\\lib\\site-packages (from google-api-python-client->google-generativeai) (4.1.1)\n",
      "Requirement already satisfied: annotated-types>=0.4.0 in c:\\anaconda3\\lib\\site-packages (from pydantic->google-generativeai) (0.6.0)\n",
      "Requirement already satisfied: pydantic-core==2.20.1 in c:\\anaconda3\\lib\\site-packages (from pydantic->google-generativeai) (2.20.1)\n",
      "Requirement already satisfied: colorama in c:\\anaconda3\\lib\\site-packages (from tqdm->google-generativeai) (0.4.6)\n",
      "Requirement already satisfied: grpcio<2.0dev,>=1.33.2 in c:\\anaconda3\\lib\\site-packages (from google-api-core[grpc]!=2.0.*,!=2.1.*,!=2.10.*,!=2.2.*,!=2.3.*,!=2.4.*,!=2.5.*,!=2.6.*,!=2.7.*,!=2.8.*,!=2.9.*,<3.0.0dev,>=1.34.1->google-ai-generativelanguage==0.6.15->google-generativeai) (1.72.0)\n",
      "Requirement already satisfied: grpcio-status<2.0.dev0,>=1.33.2 in c:\\anaconda3\\lib\\site-packages (from google-api-core[grpc]!=2.0.*,!=2.1.*,!=2.10.*,!=2.2.*,!=2.3.*,!=2.4.*,!=2.5.*,!=2.6.*,!=2.7.*,!=2.8.*,!=2.9.*,<3.0.0dev,>=1.34.1->google-ai-generativelanguage==0.6.15->google-generativeai) (1.71.0)\n",
      "Requirement already satisfied: pyparsing!=3.0.0,!=3.0.1,!=3.0.2,!=3.0.3,<4,>=2.4.2 in c:\\anaconda3\\lib\\site-packages (from httplib2<1.0.0,>=0.19.0->google-api-python-client->google-generativeai) (3.1.2)\n",
      "Requirement already satisfied: pyasn1<0.5.0,>=0.4.6 in c:\\anaconda3\\lib\\site-packages (from pyasn1-modules>=0.2.1->google-auth>=2.15.0->google-generativeai) (0.4.8)\n",
      "Requirement already satisfied: charset-normalizer<4,>=2 in c:\\anaconda3\\lib\\site-packages (from requests<3.0.0,>=2.18.0->google-api-core->google-generativeai) (3.3.2)\n",
      "Requirement already satisfied: idna<4,>=2.5 in c:\\anaconda3\\lib\\site-packages (from requests<3.0.0,>=2.18.0->google-api-core->google-generativeai) (3.7)\n",
      "Requirement already satisfied: urllib3<3,>=1.21.1 in c:\\anaconda3\\lib\\site-packages (from requests<3.0.0,>=2.18.0->google-api-core->google-generativeai) (2.2.3)\n",
      "Requirement already satisfied: certifi>=2017.4.17 in c:\\anaconda3\\lib\\site-packages (from requests<3.0.0,>=2.18.0->google-api-core->google-generativeai) (2025.1.31)\n"
     ]
    }
   ],
   "source": [
    "!pip install numpy pandas\n",
    "!pip install matplotlib seaborn plotly\n",
    "!pip install scikit-learn\n",
    "!pip install xgboost lightgbm\n",
    "!pip install ipywidgets\n",
    "!pip install transformers\n",
    "!pip install torch\n",
    "!pip install openai\n",
    "!pip install streamlit\n",
    "!pip install google-generativeai"
   ]
  },
  {
   "cell_type": "code",
   "execution_count": 86,
   "id": "eb16f1a3-9f6b-463c-bfd3-99fa201640df",
   "metadata": {},
   "outputs": [],
   "source": [
    "import numpy as np\n",
    "import pandas as pd\n",
    "import random\n",
    "import time\n",
    "import matplotlib.pyplot as plt\n",
    "import seaborn as sns\n",
    "import hashlib\n",
    "import plotly.express as px\n",
    "import pprint\n",
    "from sklearn.ensemble import IsolationForest\n",
    "from sklearn.cluster import KMeans\n",
    "from sklearn.preprocessing import StandardScaler\n",
    "import ipywidgets as widgets\n",
    "from IPython.display import display\n",
    "try:\n",
    "    from transformers import pipeline\n",
    "    import openai\n",
    "except ImportError:\n",
    "    print(\"transformers or openai not installed. Skipping LLM imports.\")\n",
    "try:\n",
    "    import streamlit as st\n",
    "except ImportError:\n",
    "    print(\"Streamlit not found — you’re probably not dashboard-pilled yet.\")\n",
    "import google.generativeai as genai"
   ]
  },
  {
   "cell_type": "code",
   "execution_count": 12,
   "id": "f908d019-5df7-46e2-a9ff-30f8a7a2695f",
   "metadata": {},
   "outputs": [],
   "source": [
    "# Create fake users\n",
    "users = [f\"user_{i}\" for i in range(10)]"
   ]
  },
  {
   "cell_type": "code",
   "execution_count": 14,
   "id": "40410186-a613-4dcc-895e-a3c36a7f3ede",
   "metadata": {},
   "outputs": [],
   "source": [
    "# Assign random token balances to each user\n",
    "balances = {user: random.randint(50, 150) for user in users}"
   ]
  },
  {
   "cell_type": "code",
   "execution_count": 16,
   "id": "f8670da7-70c7-4297-a573-529842373854",
   "metadata": {},
   "outputs": [],
   "source": [
    "# Convert to DataFrame for easier viewing\n",
    "balance_df = pd.DataFrame(list(balances.items()), columns=['User', 'Balance'])"
   ]
  },
  {
   "cell_type": "code",
   "execution_count": 18,
   "id": "24072c0f-8ceb-4234-992a-c0e0a8ed10cb",
   "metadata": {},
   "outputs": [
    {
     "data": {
      "text/html": [
       "<div>\n",
       "<style scoped>\n",
       "    .dataframe tbody tr th:only-of-type {\n",
       "        vertical-align: middle;\n",
       "    }\n",
       "\n",
       "    .dataframe tbody tr th {\n",
       "        vertical-align: top;\n",
       "    }\n",
       "\n",
       "    .dataframe thead th {\n",
       "        text-align: right;\n",
       "    }\n",
       "</style>\n",
       "<table border=\"1\" class=\"dataframe\">\n",
       "  <thead>\n",
       "    <tr style=\"text-align: right;\">\n",
       "      <th></th>\n",
       "      <th>User</th>\n",
       "      <th>Balance</th>\n",
       "    </tr>\n",
       "  </thead>\n",
       "  <tbody>\n",
       "    <tr>\n",
       "      <th>0</th>\n",
       "      <td>user_0</td>\n",
       "      <td>74</td>\n",
       "    </tr>\n",
       "    <tr>\n",
       "      <th>1</th>\n",
       "      <td>user_1</td>\n",
       "      <td>73</td>\n",
       "    </tr>\n",
       "    <tr>\n",
       "      <th>2</th>\n",
       "      <td>user_2</td>\n",
       "      <td>64</td>\n",
       "    </tr>\n",
       "    <tr>\n",
       "      <th>3</th>\n",
       "      <td>user_3</td>\n",
       "      <td>140</td>\n",
       "    </tr>\n",
       "    <tr>\n",
       "      <th>4</th>\n",
       "      <td>user_4</td>\n",
       "      <td>136</td>\n",
       "    </tr>\n",
       "    <tr>\n",
       "      <th>5</th>\n",
       "      <td>user_5</td>\n",
       "      <td>89</td>\n",
       "    </tr>\n",
       "    <tr>\n",
       "      <th>6</th>\n",
       "      <td>user_6</td>\n",
       "      <td>86</td>\n",
       "    </tr>\n",
       "    <tr>\n",
       "      <th>7</th>\n",
       "      <td>user_7</td>\n",
       "      <td>114</td>\n",
       "    </tr>\n",
       "    <tr>\n",
       "      <th>8</th>\n",
       "      <td>user_8</td>\n",
       "      <td>82</td>\n",
       "    </tr>\n",
       "    <tr>\n",
       "      <th>9</th>\n",
       "      <td>user_9</td>\n",
       "      <td>95</td>\n",
       "    </tr>\n",
       "  </tbody>\n",
       "</table>\n",
       "</div>"
      ],
      "text/plain": [
       "     User  Balance\n",
       "0  user_0       74\n",
       "1  user_1       73\n",
       "2  user_2       64\n",
       "3  user_3      140\n",
       "4  user_4      136\n",
       "5  user_5       89\n",
       "6  user_6       86\n",
       "7  user_7      114\n",
       "8  user_8       82\n",
       "9  user_9       95"
      ]
     },
     "metadata": {},
     "output_type": "display_data"
    }
   ],
   "source": [
    "# Display the table\n",
    "display(balance_df)"
   ]
  },
  {
   "cell_type": "code",
   "execution_count": 20,
   "id": "a4e13351-2d44-48c7-8d62-75dd205a27fd",
   "metadata": {},
   "outputs": [
    {
     "data": {
      "image/png": "[encoded data removed]",
      "text/plain": [
       "<Figure size 1000x400 with 1 Axes>"
      ]
     },
     "metadata": {},
     "output_type": "display_data"
    }
   ],
   "source": [
    "# Plot the initial balances\n",
    "def plot_balances():\n",
    "    plt.figure(figsize=(10, 4))\n",
    "    plt.bar(balances.keys(), balances.values(), color='skyblue')\n",
    "    plt.title(\"Initial Token Balances\")\n",
    "    plt.xticks(rotation=45)\n",
    "    plt.ylabel(\"Token Amount\")\n",
    "    plt.tight_layout()\n",
    "    plt.show()\n",
    "plot_balances()"
   ]
  },
  {
   "cell_type": "code",
   "execution_count": 22,
   "id": "63e4bb4c-91bd-4976-843a-d65cf31ed70f",
   "metadata": {},
   "outputs": [],
   "source": [
    "# Initialize the blockchain — a list of all confirmed transactions\n",
    "blockchain = []"
   ]
  },
  {
   "cell_type": "code",
   "execution_count": 24,
   "id": "6a92aba7-a5e7-463e-903e-530861743112",
   "metadata": {},
   "outputs": [],
   "source": [
    "# Function to create a transaction\n",
    "def create_transaction(sender, receiver, amount):\n",
    "    return {\n",
    "        'timestamp': time.time(),\n",
    "        'sender': sender,\n",
    "        'receiver': receiver,\n",
    "        'amount': amount,\n",
    "    }"
   ]
  },
  {
   "cell_type": "code",
   "execution_count": 26,
   "id": "7835e53b-b935-46f3-a2b2-800bffe2cd58",
   "metadata": {},
   "outputs": [],
   "source": [
    "# Function to simulate block hashing (for fun and illusion of legitimacy)\n",
    "def hash_block(block):\n",
    "    block_string = str(block).encode()\n",
    "    return hashlib.sha256(block_string).hexdigest()"
   ]
  },
  {
   "cell_type": "code",
   "execution_count": 28,
   "id": "e3295617-331c-423b-ba93-80bf3ad8c407",
   "metadata": {},
   "outputs": [],
   "source": [
    "# Function to process a transaction (and add to blockchain)\n",
    "def process_transaction(tx):\n",
    "    sender = tx['sender']\n",
    "    receiver = tx['receiver']\n",
    "    amount = tx['amount']\n",
    "    # Check if sender has enough tokens\n",
    "    if balances.get(sender, 0) >= amount:\n",
    "        balances[sender] -= amount\n",
    "        balances[receiver] += amount\n",
    "        block = {\n",
    "            'transaction': tx,\n",
    "            'hash': hash_block(tx)\n",
    "        }\n",
    "        blockchain.append(block)\n",
    "    else:\n",
    "        print(f\"🚫 Transaction failed: {sender} tried to send {amount} with only {balances[sender]} tokens.\")"
   ]
  },
  {
   "cell_type": "code",
   "execution_count": 30,
   "id": "635a82c0-06b0-4f27-bd47-93d2b31c3076",
   "metadata": {},
   "outputs": [],
   "source": [
    "# Generate a few random transactions to test the system\n",
    "for _ in range(15):\n",
    "    sender = random.choice(users)\n",
    "    receiver = random.choice([u for u in users if u != sender])\n",
    "    amount = random.randint(1, 50)\n",
    "    tx = create_transaction(sender, receiver, amount)\n",
    "    process_transaction(tx)"
   ]
  },
  {
   "cell_type": "code",
   "execution_count": 32,
   "id": "305fed6f-74c4-4873-8124-ef3b86fb38be",
   "metadata": {},
   "outputs": [
    {
     "data": {
      "text/html": [
       "<div>\n",
       "<style scoped>\n",
       "    .dataframe tbody tr th:only-of-type {\n",
       "        vertical-align: middle;\n",
       "    }\n",
       "\n",
       "    .dataframe tbody tr th {\n",
       "        vertical-align: top;\n",
       "    }\n",
       "\n",
       "    .dataframe thead th {\n",
       "        text-align: right;\n",
       "    }\n",
       "</style>\n",
       "<table border=\"1\" class=\"dataframe\">\n",
       "  <thead>\n",
       "    <tr style=\"text-align: right;\">\n",
       "      <th></th>\n",
       "      <th>User</th>\n",
       "      <th>Balance</th>\n",
       "    </tr>\n",
       "  </thead>\n",
       "  <tbody>\n",
       "    <tr>\n",
       "      <th>0</th>\n",
       "      <td>user_0</td>\n",
       "      <td>41</td>\n",
       "    </tr>\n",
       "    <tr>\n",
       "      <th>1</th>\n",
       "      <td>user_1</td>\n",
       "      <td>98</td>\n",
       "    </tr>\n",
       "    <tr>\n",
       "      <th>2</th>\n",
       "      <td>user_2</td>\n",
       "      <td>64</td>\n",
       "    </tr>\n",
       "    <tr>\n",
       "      <th>3</th>\n",
       "      <td>user_3</td>\n",
       "      <td>127</td>\n",
       "    </tr>\n",
       "    <tr>\n",
       "      <th>4</th>\n",
       "      <td>user_4</td>\n",
       "      <td>119</td>\n",
       "    </tr>\n",
       "    <tr>\n",
       "      <th>5</th>\n",
       "      <td>user_5</td>\n",
       "      <td>111</td>\n",
       "    </tr>\n",
       "    <tr>\n",
       "      <th>6</th>\n",
       "      <td>user_6</td>\n",
       "      <td>79</td>\n",
       "    </tr>\n",
       "    <tr>\n",
       "      <th>7</th>\n",
       "      <td>user_7</td>\n",
       "      <td>210</td>\n",
       "    </tr>\n",
       "    <tr>\n",
       "      <th>8</th>\n",
       "      <td>user_8</td>\n",
       "      <td>42</td>\n",
       "    </tr>\n",
       "    <tr>\n",
       "      <th>9</th>\n",
       "      <td>user_9</td>\n",
       "      <td>62</td>\n",
       "    </tr>\n",
       "  </tbody>\n",
       "</table>\n",
       "</div>"
      ],
      "text/plain": [
       "     User  Balance\n",
       "0  user_0       41\n",
       "1  user_1       98\n",
       "2  user_2       64\n",
       "3  user_3      127\n",
       "4  user_4      119\n",
       "5  user_5      111\n",
       "6  user_6       79\n",
       "7  user_7      210\n",
       "8  user_8       42\n",
       "9  user_9       62"
      ]
     },
     "metadata": {},
     "output_type": "display_data"
    }
   ],
   "source": [
    "# Show updated balances\n",
    "updated_balance_df = pd.DataFrame(list(balances.items()), columns=['User', 'Balance'])\n",
    "display(updated_balance_df)"
   ]
  },
  {
   "cell_type": "code",
   "execution_count": 34,
   "id": "0048380b-4fa2-4948-941d-ca6e13aadab0",
   "metadata": {},
   "outputs": [
    {
     "data": {
      "image/png": "[encoded data removed]",
      "text/plain": [
       "<Figure size 1000x400 with 1 Axes>"
      ]
     },
     "metadata": {},
     "output_type": "display_data"
    }
   ],
   "source": [
    "# Plot updated balances\n",
    "plot_balances()"
   ]
  },
  {
   "cell_type": "code",
   "execution_count": 38,
   "id": "da36e9d4-10d7-4c62-89fe-e4dfa974b7d1",
   "metadata": {},
   "outputs": [
    {
     "name": "stdout",
     "output_type": "stream",
     "text": [
      "\n",
      " Sample blockchain blocks:\n",
      "[{'hash': '682946d8764138c86f56afcec7c41950314921185c2f753383c4df291ce4be64',\n",
      "  'transaction': {'amount': 44,\n",
      "                  'receiver': 'user_1',\n",
      "                  'sender': 'user_9',\n",
      "                  'timestamp': 1745600628.134585}},\n",
      " {'hash': 'af81da3a9215190a982cd26495df575faf8cc7a94d38add990089299b7dcdac2',\n",
      "  'transaction': {'amount': 16,\n",
      "                  'receiver': 'user_7',\n",
      "                  'sender': 'user_1',\n",
      "                  'timestamp': 1745600628.134585}},\n",
      " {'hash': 'c038e84abe212df2fd7360607a8e7973487471464e48e201f5108ccd2374e923',\n",
      "  'transaction': {'amount': 29,\n",
      "                  'receiver': 'user_4',\n",
      "                  'sender': 'user_1',\n",
      "                  'timestamp': 1745600628.134585}}]\n"
     ]
    }
   ],
   "source": [
    "# View some recent \"blocks\"\n",
    "print(\"\\n Sample blockchain blocks:\")\n",
    "pprint.pprint(blockchain[-3:])  # Show last 3 blocks"
   ]
  },
  {
   "cell_type": "code",
   "execution_count": 40,
   "id": "5d2eed44-9b9f-4d1a-b947-6b892677e6f1",
   "metadata": {},
   "outputs": [],
   "source": [
    "# Create a transaction log DataFrame from the blockchain\n",
    "tx_data = []\n",
    "for block in blockchain:\n",
    "    tx = block['transaction']\n",
    "    tx_data.append({\n",
    "        'timestamp': tx['timestamp'],\n",
    "        'sender': tx['sender'],\n",
    "        'receiver': tx['receiver'],\n",
    "        'amount': tx['amount']\n",
    "    })\n",
    "df_tx = pd.DataFrame(tx_data)"
   ]
  },
  {
   "cell_type": "code",
   "execution_count": 42,
   "id": "d1395a4c-f7e4-4679-8fca-ad1db500659e",
   "metadata": {},
   "outputs": [],
   "source": [
    "# Apply AI: Isolation Forest to detect anomalous amounts\n",
    "model = IsolationForest(contamination=0.1, random_state=42)\n",
    "df_tx['amount_scaled'] = (df_tx['amount'] - df_tx['amount'].mean()) / df_tx['amount'].std()"
   ]
  },
  {
   "cell_type": "code",
   "execution_count": 44,
   "id": "7e964d31-1094-4dc9-a1b8-5349c3b56574",
   "metadata": {},
   "outputs": [],
   "source": [
    "# Train model on the scaled amount (because raw numbers are rude)\n",
    "model.fit(df_tx[['amount_scaled']])\n",
    "df_tx['anomaly'] = model.predict(df_tx[['amount_scaled']])"
   ]
  },
  {
   "cell_type": "code",
   "execution_count": 46,
   "id": "cbd0ced3-101f-49a4-aa48-68faf2189de9",
   "metadata": {},
   "outputs": [],
   "source": [
    "# -1 means anomaly, 1 means normal\n",
    "df_tx['is_suspicious'] = df_tx['anomaly'] == -1"
   ]
  },
  {
   "cell_type": "code",
   "execution_count": 48,
   "id": "1f98d7b5-f001-43e4-b1ba-4e5e93b2baa0",
   "metadata": {},
   "outputs": [
    {
     "name": "stdout",
     "output_type": "stream",
     "text": [
      "⚠️ Suspicious Transactions Detected:\n"
     ]
    },
    {
     "data": {
      "text/html": [
       "<div>\n",
       "<style scoped>\n",
       "    .dataframe tbody tr th:only-of-type {\n",
       "        vertical-align: middle;\n",
       "    }\n",
       "\n",
       "    .dataframe tbody tr th {\n",
       "        vertical-align: top;\n",
       "    }\n",
       "\n",
       "    .dataframe thead th {\n",
       "        text-align: right;\n",
       "    }\n",
       "</style>\n",
       "<table border=\"1\" class=\"dataframe\">\n",
       "  <thead>\n",
       "    <tr style=\"text-align: right;\">\n",
       "      <th></th>\n",
       "      <th>timestamp</th>\n",
       "      <th>sender</th>\n",
       "      <th>receiver</th>\n",
       "      <th>amount</th>\n",
       "      <th>amount_scaled</th>\n",
       "      <th>anomaly</th>\n",
       "      <th>is_suspicious</th>\n",
       "    </tr>\n",
       "  </thead>\n",
       "  <tbody>\n",
       "    <tr>\n",
       "      <th>5</th>\n",
       "      <td>1.745601e+09</td>\n",
       "      <td>user_4</td>\n",
       "      <td>user_7</td>\n",
       "      <td>47</td>\n",
       "      <td>1.790757</td>\n",
       "      <td>-1</td>\n",
       "      <td>True</td>\n",
       "    </tr>\n",
       "    <tr>\n",
       "      <th>12</th>\n",
       "      <td>1.745601e+09</td>\n",
       "      <td>user_9</td>\n",
       "      <td>user_1</td>\n",
       "      <td>44</td>\n",
       "      <td>1.594689</td>\n",
       "      <td>-1</td>\n",
       "      <td>True</td>\n",
       "    </tr>\n",
       "  </tbody>\n",
       "</table>\n",
       "</div>"
      ],
      "text/plain": [
       "       timestamp  sender receiver  amount  amount_scaled  anomaly  \\\n",
       "5   1.745601e+09  user_4   user_7      47       1.790757       -1   \n",
       "12  1.745601e+09  user_9   user_1      44       1.594689       -1   \n",
       "\n",
       "    is_suspicious  \n",
       "5            True  \n",
       "12           True  "
      ]
     },
     "metadata": {},
     "output_type": "display_data"
    }
   ],
   "source": [
    "# View flagged transactions\n",
    "print(\"⚠️ Suspicious Transactions Detected:\")\n",
    "display(df_tx[df_tx['is_suspicious']])"
   ]
  },
  {
   "cell_type": "code",
   "execution_count": 50,
   "id": "f17d27f8-50d7-4a0f-9545-5ffa8c352871",
   "metadata": {},
   "outputs": [
    {
     "data": {
      "image/png": "[encoded data removed]",
      "text/plain": [
       "<Figure size 1000x400 with 1 Axes>"
      ]
     },
     "metadata": {},
     "output_type": "display_data"
    }
   ],
   "source": [
    "# Plotting Suspicious vs Normal Transactions\n",
    "plt.figure(figsize=(10, 4))\n",
    "sns.histplot(data=df_tx, x='amount', hue='is_suspicious', bins=20, palette={True: 'red', False: 'green'})\n",
    "plt.title(\"Transaction Amounts (Suspicious in Red)\")\n",
    "plt.xlabel(\"Amount\")\n",
    "plt.ylabel(\"Frequency\")\n",
    "plt.show()"
   ]
  },
  {
   "cell_type": "code",
   "execution_count": 52,
   "id": "0984ed8c-aeb0-46a2-a214-f30ca2dea0e5",
   "metadata": {},
   "outputs": [],
   "source": [
    "# Step 1: Calculate user transaction counts and total sent amounts\n",
    "activity_data = {user: {'sent_count': 0, 'total_sent': 0} for user in users}\n",
    "for block in blockchain:\n",
    "    tx = block['transaction']\n",
    "    sender = tx['sender']\n",
    "    amount = tx['amount']\n",
    "    activity_data[sender]['sent_count'] += 1\n",
    "    activity_data[sender]['total_sent'] += amount"
   ]
  },
  {
   "cell_type": "code",
   "execution_count": 54,
   "id": "fad4d99a-4147-4f51-b04f-9d2431193cc1",
   "metadata": {},
   "outputs": [],
   "source": [
    "# Convert to DataFrame\n",
    "activity_df = pd.DataFrame([\n",
    "    {'user': user, 'sent_count': vals['sent_count'], 'total_sent': vals['total_sent']}\n",
    "    for user, vals in activity_data.items()\n",
    "])"
   ]
  },
  {
   "cell_type": "code",
   "execution_count": 56,
   "id": "b9f7abca-ea32-4ab8-a33f-4229e7484a9e",
   "metadata": {},
   "outputs": [],
   "source": [
    "# Fill missing users (with 0 activity)\n",
    "for user in users:\n",
    "    if user not in activity_df['user'].values:\n",
    "        activity_df = activity_df.append({'user': user, 'sent_count': 0, 'total_sent': 0}, ignore_index=True)"
   ]
  },
  {
   "cell_type": "code",
   "execution_count": 58,
   "id": "38bfdadc-48b4-4cd4-9004-f7fe6f8a9407",
   "metadata": {},
   "outputs": [
    {
     "name": "stderr",
     "output_type": "stream",
     "text": [
      "C:\\Anaconda3\\Lib\\site-packages\\sklearn\\cluster\\_kmeans.py:1429: UserWarning: KMeans is known to have a memory leak on Windows with MKL, when there are less chunks than available threads. You can avoid it by setting the environment variable OMP_NUM_THREADS=1.\n",
      "  warnings.warn(\n"
     ]
    }
   ],
   "source": [
    "# Step 2: Cluster users into 3 groups (low, medium, high activity)\n",
    "X = activity_df[['sent_count', 'total_sent']]\n",
    "kmeans = KMeans(n_clusters=3, random_state=42)\n",
    "activity_df['cluster'] = kmeans.fit_predict(X)"
   ]
  },
  {
   "cell_type": "code",
   "execution_count": 60,
   "id": "023f3a2b-e8b8-49ed-8331-5dae0404b702",
   "metadata": {},
   "outputs": [],
   "source": [
    "# Step 3: Define cluster rewards\n",
    "cluster_rewards = {\n",
    "    0: 5,   # Example: low activity\n",
    "    1: 10,  # medium\n",
    "    2: 20   # high activity\n",
    "}"
   ]
  },
  {
   "cell_type": "code",
   "execution_count": 62,
   "id": "15fdb334-a8b0-45ed-895f-723f14bdba3a",
   "metadata": {},
   "outputs": [
    {
     "name": "stdout",
     "output_type": "stream",
     "text": [
      "✅ Token rewards distributed based on activity clusters.\n"
     ]
    },
    {
     "data": {
      "text/html": [
       "<div>\n",
       "<style scoped>\n",
       "    .dataframe tbody tr th:only-of-type {\n",
       "        vertical-align: middle;\n",
       "    }\n",
       "\n",
       "    .dataframe tbody tr th {\n",
       "        vertical-align: top;\n",
       "    }\n",
       "\n",
       "    .dataframe thead th {\n",
       "        text-align: right;\n",
       "    }\n",
       "</style>\n",
       "<table border=\"1\" class=\"dataframe\">\n",
       "  <thead>\n",
       "    <tr style=\"text-align: right;\">\n",
       "      <th></th>\n",
       "      <th>user</th>\n",
       "      <th>sent_count</th>\n",
       "      <th>total_sent</th>\n",
       "      <th>cluster</th>\n",
       "    </tr>\n",
       "  </thead>\n",
       "  <tbody>\n",
       "    <tr>\n",
       "      <th>0</th>\n",
       "      <td>user_0</td>\n",
       "      <td>1</td>\n",
       "      <td>33</td>\n",
       "      <td>1</td>\n",
       "    </tr>\n",
       "    <tr>\n",
       "      <th>1</th>\n",
       "      <td>user_1</td>\n",
       "      <td>4</td>\n",
       "      <td>56</td>\n",
       "      <td>2</td>\n",
       "    </tr>\n",
       "    <tr>\n",
       "      <th>2</th>\n",
       "      <td>user_2</td>\n",
       "      <td>0</td>\n",
       "      <td>0</td>\n",
       "      <td>0</td>\n",
       "    </tr>\n",
       "    <tr>\n",
       "      <th>3</th>\n",
       "      <td>user_3</td>\n",
       "      <td>1</td>\n",
       "      <td>20</td>\n",
       "      <td>0</td>\n",
       "    </tr>\n",
       "    <tr>\n",
       "      <th>4</th>\n",
       "      <td>user_4</td>\n",
       "      <td>1</td>\n",
       "      <td>47</td>\n",
       "      <td>1</td>\n",
       "    </tr>\n",
       "    <tr>\n",
       "      <th>5</th>\n",
       "      <td>user_5</td>\n",
       "      <td>2</td>\n",
       "      <td>11</td>\n",
       "      <td>0</td>\n",
       "    </tr>\n",
       "    <tr>\n",
       "      <th>6</th>\n",
       "      <td>user_6</td>\n",
       "      <td>1</td>\n",
       "      <td>23</td>\n",
       "      <td>0</td>\n",
       "    </tr>\n",
       "    <tr>\n",
       "      <th>7</th>\n",
       "      <td>user_7</td>\n",
       "      <td>0</td>\n",
       "      <td>0</td>\n",
       "      <td>0</td>\n",
       "    </tr>\n",
       "    <tr>\n",
       "      <th>8</th>\n",
       "      <td>user_8</td>\n",
       "      <td>4</td>\n",
       "      <td>60</td>\n",
       "      <td>2</td>\n",
       "    </tr>\n",
       "    <tr>\n",
       "      <th>9</th>\n",
       "      <td>user_9</td>\n",
       "      <td>1</td>\n",
       "      <td>44</td>\n",
       "      <td>1</td>\n",
       "    </tr>\n",
       "  </tbody>\n",
       "</table>\n",
       "</div>"
      ],
      "text/plain": [
       "     user  sent_count  total_sent  cluster\n",
       "0  user_0           1          33        1\n",
       "1  user_1           4          56        2\n",
       "2  user_2           0           0        0\n",
       "3  user_3           1          20        0\n",
       "4  user_4           1          47        1\n",
       "5  user_5           2          11        0\n",
       "6  user_6           1          23        0\n",
       "7  user_7           0           0        0\n",
       "8  user_8           4          60        2\n",
       "9  user_9           1          44        1"
      ]
     },
     "metadata": {},
     "output_type": "display_data"
    },
    {
     "data": {
      "image/png": "[encoded data removed]",
      "text/plain": [
       "<Figure size 1000x400 with 1 Axes>"
      ]
     },
     "metadata": {},
     "output_type": "display_data"
    }
   ],
   "source": [
    "# 🧾 Step 4: Distribute rewards based on cluster\n",
    "for _, row in activity_df.iterrows():\n",
    "    user = row['user']\n",
    "    cluster = row['cluster']\n",
    "    reward = cluster_rewards.get(cluster, 0)\n",
    "    balances[user] += reward\n",
    "print(\"✅ Token rewards distributed based on activity clusters.\")\n",
    "display(activity_df)\n",
    "plot_balances()"
   ]
  },
  {
   "cell_type": "code",
   "execution_count": 110,
   "id": "1c443429-8fa8-4b8e-ac31-9913ec200b25",
   "metadata": {
    "scrolled": true
   },
   "outputs": [
    {
     "name": "stderr",
     "output_type": "stream",
     "text": [
      "Xet Storage is enabled for this repo, but the 'hf_xet' package is not installed. Falling back to regular HTTP download. For better performance, install the package with: `pip install huggingface_hub[hf_xet]` or `pip install hf_xet`\n"
     ]
    },
    {
     "data": {
      "application/vnd.jupyter.widget-view+json": {
       "model_id": "6e0f53cdea124da28bc25d7f3dbfaabe",
       "version_major": 2,
       "version_minor": 0
      },
      "text/plain": [
       "model.safetensors:   0%|          | 0.00/548M [00:00<?, ?B/s]"
      ]
     },
     "metadata": {},
     "output_type": "display_data"
    },
    {
     "data": {
      "application/vnd.jupyter.widget-view+json": {
       "model_id": "2efe62e92a86400fbb9ebc3601602130",
       "version_major": 2,
       "version_minor": 0
      },
      "text/plain": [
       "generation_config.json:   0%|          | 0.00/124 [00:00<?, ?B/s]"
      ]
     },
     "metadata": {},
     "output_type": "display_data"
    },
    {
     "data": {
      "application/vnd.jupyter.widget-view+json": {
       "model_id": "86e7c2ead4f642549c5fd33fc64bbd07",
       "version_major": 2,
       "version_minor": 0
      },
      "text/plain": [
       "tokenizer_config.json:   0%|          | 0.00/26.0 [00:00<?, ?B/s]"
      ]
     },
     "metadata": {},
     "output_type": "display_data"
    },
    {
     "data": {
      "application/vnd.jupyter.widget-view+json": {
       "model_id": "47be90571c9b497cb5498fe6c655c01c",
       "version_major": 2,
       "version_minor": 0
      },
      "text/plain": [
       "vocab.json:   0%|          | 0.00/1.04M [00:00<?, ?B/s]"
      ]
     },
     "metadata": {},
     "output_type": "display_data"
    },
    {
     "data": {
      "application/vnd.jupyter.widget-view+json": {
       "model_id": "37e5b4cd35ec430fa1eec2922921beda",
       "version_major": 2,
       "version_minor": 0
      },
      "text/plain": [
       "merges.txt:   0%|          | 0.00/456k [00:00<?, ?B/s]"
      ]
     },
     "metadata": {},
     "output_type": "display_data"
    },
    {
     "data": {
      "application/vnd.jupyter.widget-view+json": {
       "model_id": "ab23d7d5555e4d2db668810516b74d68",
       "version_major": 2,
       "version_minor": 0
      },
      "text/plain": [
       "tokenizer.json:   0%|          | 0.00/1.36M [00:00<?, ?B/s]"
      ]
     },
     "metadata": {},
     "output_type": "display_data"
    },
    {
     "name": "stderr",
     "output_type": "stream",
     "text": [
      "Device set to use cpu\n"
     ]
    }
   ],
   "source": [
    "# Load using PyTorch only\n",
    "local_ai = pipeline(\"text-generation\", model=\"gpt2\", framework=\"pt\")"
   ]
  },
  {
   "cell_type": "code",
   "execution_count": 116,
   "id": "c0cfae42-154a-4d87-86c7-09367e9082f5",
   "metadata": {},
   "outputs": [],
   "source": [
    "def query_local_ai(prompt):\n",
    "    structured_prompt = (\n",
    "        f\"Policy Proposal: {prompt}\\n\"\n",
    "        f\"Assessment:\\n\"\n",
    "        f\"- Pros:\\n\"\n",
    "        f\"- Cons:\\n\"\n",
    "        f\"- Recommendation:\\n\"\n",
    "    )\n",
    "    result = local_ai(structured_prompt, max_length=150, do_sample=True, temperature=0.7)\n",
    "    return result[0]['generated_text']"
   ]
  },
  {
   "cell_type": "code",
   "execution_count": 118,
   "id": "5c8e592a-eb37-42ed-88d3-607050d001c9",
   "metadata": {},
   "outputs": [
    {
     "name": "stderr",
     "output_type": "stream",
     "text": [
      "Setting `pad_token_id` to `eos_token_id`:50256 for open-end generation.\n"
     ]
    },
    {
     "name": "stdout",
     "output_type": "stream",
     "text": [
      "Policy Proposal: Reward users who hold tokens longer than 6 months.\n",
      "Assessment:\n",
      "- Pros:\n",
      "- Cons:\n",
      "- Recommendation:\n",
      "- Technical:\n",
      "- Cons:\n",
      "- Technical:\n",
      "- Cons:\n",
      "- Technical:\n",
      "- Cons:\n",
      "- Technical:\n",
      "- Cons:\n",
      "- Technical:\n",
      "- Technical:\n",
      "- Technical:\n",
      "- Technical:\n",
      "- Technical:\n",
      "- Technical:\n",
      "/u/JHW-Frosty_Trey\n",
      "/u/jhw-frosty_trey\n",
      "/u/JHW-Frosty_Trey\n",
      "/u/jhw-frosty_trey\n",
      "/u/JHW\n"
     ]
    }
   ],
   "source": [
    "# Test it\n",
    "print(query_local_ai(\"Reward users who hold tokens longer than 6 months.\"))"
   ]
  },
  {
   "cell_type": "code",
   "execution_count": 122,
   "id": "90e1a1ed-b909-4abf-82c6-ed3f2e203123",
   "metadata": {},
   "outputs": [],
   "source": [
    "def apply_policy_effect(proposal_text):\n",
    "    proposal_text = proposal_text.lower()\n",
    "    if \"increase rewards for new users\" in proposal_text:\n",
    "        # Give all users with low balances a reward\n",
    "        for user, balance in balances.items():\n",
    "            if balance < 100:\n",
    "                balances[user] += 20\n",
    "        print(\"🪙 Policy Applied: Boosted new/low-balance user rewards.\")\n",
    "    elif \"penalize users who hoard\" in proposal_text:\n",
    "        # Reduce balance for users with high amounts\n",
    "        for user, balance in balances.items():\n",
    "            if balance > 140:\n",
    "                balances[user] -= 15\n",
    "        print(\"📉 Policy Applied: Hoarder penalty deducted.\")\n",
    "    elif \"inflation\" in proposal_text:\n",
    "        # Global inflation - reduce everyone's purchasing power\n",
    "        for user in balances:\n",
    "            balances[user] = round(balances[user] * 0.9, 2)\n",
    "        print(\"🔥 Policy Applied: Simulated inflation.\")\n",
    "    elif \"lottery\" in proposal_text:\n",
    "        # Redistribute tokens from rich to poor\n",
    "        rich = [u for u, b in balances.items() if b > 130]\n",
    "        poor = [u for u, b in balances.items() if b < 100]\n",
    "        if rich and poor:\n",
    "            for r in rich:\n",
    "                balances[r] -= 5\n",
    "            for p in poor:\n",
    "                balances[p] += 5\n",
    "        print(\"🎰 Policy Applied: Token redistribution lottery.\")\n",
    "    else:\n",
    "        print(\"🤷 No economic action taken (AI unclear or boring policy).\")"
   ]
  },
  {
   "cell_type": "code",
   "execution_count": 124,
   "id": "5ede4793-9190-4dfd-860e-df97e449988a",
   "metadata": {
    "scrolled": true
   },
   "outputs": [
    {
     "name": "stderr",
     "output_type": "stream",
     "text": [
      "Setting `pad_token_id` to `eos_token_id`:50256 for open-end generation.\n"
     ]
    },
    {
     "name": "stdout",
     "output_type": "stream",
     "text": [
      "📜 Proposal: We should increase rewards for new users to encourage adoption.\n"
     ]
    },
    {
     "name": "stderr",
     "output_type": "stream",
     "text": [
      "Setting `pad_token_id` to `eos_token_id`:50256 for open-end generation.\n"
     ]
    },
    {
     "name": "stdout",
     "output_type": "stream",
     "text": [
      "🤖 AI Ruling:\n",
      " Policy Proposal: Evaluate this crypto policy: We should increase rewards for new users to encourage adoption.\n",
      "Assessment:\n",
      "- Pros:\n",
      "- Cons:\n",
      "- Recommendation:\n",
      "- Cons:\n",
      "- Cons:\n",
      "- Cons:\n",
      "- Cons:\n",
      "\n",
      "\n",
      "There is absolutely no evidence that the crypto policy is \"correct\" in any way. In fact, there are many examples of the policy being wrong - including a recent paper from the International Monetary Fund, which says that the crypto policy is not \"corrected\" in any way. I am not saying that the crypto policy is wrong, just that it is wrong.\n",
      "\n",
      "\n",
      "The purpose of the discussion here is to help clarify what we are talking about. The goal is\n",
      "🪙 Policy Applied: Boosted new/low-balance user rewards.\n",
      "--------------------------------------------------------------------------------\n",
      "📜 Proposal: Penalize users who hoard tokens and don’t transact.\n"
     ]
    },
    {
     "name": "stderr",
     "output_type": "stream",
     "text": [
      "Setting `pad_token_id` to `eos_token_id`:50256 for open-end generation.\n"
     ]
    },
    {
     "name": "stdout",
     "output_type": "stream",
     "text": [
      "🤖 AI Ruling:\n",
      " Policy Proposal: Evaluate this crypto policy: Penalize users who hoard tokens and don’t transact.\n",
      "Assessment:\n",
      "- Pros:\n",
      "- Cons:\n",
      "- Recommendation:\n",
      "- Adopts:\n",
      "- Cons:\n",
      "- Adopts:\n",
      "- Adopts:\n",
      "- Adopts:\n",
      "- Adopts:\n",
      "- Adopts:\n",
      "- Adopts:\n",
      "- Adopts:\n",
      "- Adopts:\n",
      "- Adopts:\n",
      "- Adopts:\n",
      "- Adopts:\n",
      "- Adopts:\n",
      "- Adopts:\n",
      "- Adopts:\n",
      "- Adopts:\n",
      "- Adopts:\n",
      "- Adop\n",
      "📉 Policy Applied: Hoarder penalty deducted.\n",
      "--------------------------------------------------------------------------------\n",
      "📜 Proposal: Introduce random inflation spikes to test system resilience.\n"
     ]
    },
    {
     "name": "stderr",
     "output_type": "stream",
     "text": [
      "Setting `pad_token_id` to `eos_token_id`:50256 for open-end generation.\n"
     ]
    },
    {
     "name": "stdout",
     "output_type": "stream",
     "text": [
      "🤖 AI Ruling:\n",
      " Policy Proposal: Evaluate this crypto policy: Introduce random inflation spikes to test system resilience.\n",
      "Assessment:\n",
      "- Pros:\n",
      "- Cons:\n",
      "- Recommendation:\n",
      "- Proposal: Implement a new crypto policy: Introduce random inflation spikes to test system resilience.\n",
      "Assessment:- Pros:- Cons:- Recommendation:\n",
      "- Proposal: Implement a new crypto policy: Introduce random inflation spikes to test system resilience.\n",
      "- Cons:- Cons:- Cons:-\n",
      "- Cons:- Cons:- Cons:- Cons:- Cons:- Cons:- Cons:- Cons:- Cons:- Cons:- Cons:- Cons:- Cons:\n",
      "- Cons:- Cons\n",
      "🔥 Policy Applied: Simulated inflation.\n",
      "--------------------------------------------------------------------------------\n",
      "📜 Proposal: Create a weekly lottery to redistribute tokens from the top 10% to low-balance users.\n"
     ]
    },
    {
     "name": "stderr",
     "output_type": "stream",
     "text": [
      "Setting `pad_token_id` to `eos_token_id`:50256 for open-end generation.\n"
     ]
    },
    {
     "name": "stdout",
     "output_type": "stream",
     "text": [
      "🤖 AI Ruling:\n",
      " Policy Proposal: Evaluate this crypto policy: Create a weekly lottery to redistribute tokens from the top 10% to low-balance users.\n",
      "Assessment:\n",
      "- Pros:\n",
      "- Cons:\n",
      "- Recommendation:\n",
      "- Recommendation:\n",
      "- Cons:\n",
      "- Recommendation:\n",
      "- Cons:\n",
      "- Cons:\n",
      "- Cons:\n",
      "- Cons:\n",
      "- Cons:\n",
      "- Cons:\n",
      "- Cons:\n",
      "- Cons:\n",
      "- Cons:\n",
      "- Cons:\n",
      "- Cons:\n",
      "- Cons:\n",
      "- Cons:\n",
      "- Cons:\n",
      "- Cons:\n",
      "- Cons:\n",
      "- Cons:\n",
      "- Cons:\n",
      "- Cons:\n",
      "- Cons:\n",
      "- Cons:\n",
      "- Cons:\n",
      "-\n",
      "🎰 Policy Applied: Token redistribution lottery.\n",
      "--------------------------------------------------------------------------------\n",
      "📜 Proposal: Reduce rewards for users who have been flagged as suspicious by the AI.\n",
      "🤖 AI Ruling:\n",
      " Policy Proposal: Evaluate this crypto policy: Reduce rewards for users who have been flagged as suspicious by the AI.\n",
      "Assessment:\n",
      "- Pros:\n",
      "- Cons:\n",
      "- Recommendation:\n",
      "- Cons:\n",
      "- Recommendation:\n",
      "- Cons:\n",
      "- Evaluate the proposal to evaluate the AI's actions.\n",
      "- Cons:\n",
      "- Validate the AI's work on a higher level.\n",
      "- Validate the AI's work on a higher level.\n",
      "- Validate the AI's work on a higher level.\n",
      "- Validate the AI's work on a higher level.\n",
      "- Validate the AI's work on a higher level.\n",
      "- Validate the AI's work on a higher level.\n",
      "\n",
      "🤷 No economic action taken (AI unclear or boring policy).\n",
      "--------------------------------------------------------------------------------\n"
     ]
    }
   ],
   "source": [
    "for proposal in proposals:\n",
    "    print(f\"📜 Proposal: {proposal}\")\n",
    "    ai_response = query_local_ai(f\"Evaluate this crypto policy: {proposal}\")\n",
    "    print(\"🤖 AI Ruling:\\n\", ai_response) \n",
    "    # Crude logic: if AI says it's a good idea, apply it\n",
    "    if \"pros\" in ai_response.lower() or \"recommendation\" in ai_response.lower():\n",
    "        apply_policy_effect(proposal)\n",
    "    else:\n",
    "        print(\"🚫 Policy Rejected: AI did not endorse the idea.\")\n",
    "    print(\"-\" * 80)"
   ]
  },
  {
   "cell_type": "code",
   "execution_count": 126,
   "id": "190e7170-9a54-464b-95ee-6a8ccb4edb60",
   "metadata": {},
   "outputs": [
    {
     "data": {
      "image/png": "[encoded data removed]",
      "text/plain": [
       "<Figure size 1000x400 with 1 Axes>"
      ]
     },
     "metadata": {},
     "output_type": "display_data"
    }
   ],
   "source": [
    "plot_balances()"
   ]
  },
  {
   "cell_type": "code",
   "execution_count": 128,
   "id": "64fdad9a-e8b9-459b-a36d-f4a70a64202b",
   "metadata": {},
   "outputs": [],
   "source": [
    "#Dynamic Tax System"
   ]
  },
  {
   "cell_type": "code",
   "execution_count": 130,
   "id": "b5a9e0d1-b3c6-45c1-8a82-2710992f1fe5",
   "metadata": {},
   "outputs": [],
   "source": [
    "# Initialize the treasury (government bank account)\n",
    "treasury = 0"
   ]
  },
  {
   "cell_type": "code",
   "execution_count": 132,
   "id": "d7034936-7ad6-47ef-9c66-a00e9aa7a831",
   "metadata": {},
   "outputs": [],
   "source": [
    "# Modified process_transaction with tax\n",
    "def process_transaction_with_tax(tx, tax_rate=0.05):  # 5% tax\n",
    "    global treasury  # Important: otherwise Python cries\n",
    "    sender = tx['sender']\n",
    "    receiver = tx['receiver']\n",
    "    amount = tx['amount']\n",
    "    tax = round(amount * tax_rate, 2)\n",
    "    amount_after_tax = amount - tax\n",
    "    # Check if sender has enough tokens\n",
    "    if balances.get(sender, 0) >= amount:\n",
    "        balances[sender] -= amount\n",
    "        balances[receiver] += amount_after_tax\n",
    "        treasury += tax  # Tax goes into the treasury\n",
    "        block = {\n",
    "            'transaction': tx,\n",
    "            'tax': tax,\n",
    "            'treasury_balance_after': treasury,\n",
    "            'hash': hash_block(tx)\n",
    "        }\n",
    "        blockchain.append(block)\n",
    "    else:\n",
    "        print(f\"🚫 Transaction failed: {sender} tried to send {amount} with only {balances[sender]} tokens.\")"
   ]
  },
  {
   "cell_type": "code",
   "execution_count": 134,
   "id": "dd1c3ea7-8916-4ae1-a484-73ffba59ae79",
   "metadata": {},
   "outputs": [
    {
     "name": "stdout",
     "output_type": "stream",
     "text": [
      "🏛️ Treasury Balance: 0 tokens\n"
     ]
    }
   ],
   "source": [
    "print(f\"🏛️ Treasury Balance: {treasury} tokens\")"
   ]
  },
  {
   "cell_type": "code",
   "execution_count": 136,
   "id": "789b3cdf-223f-433e-8c4a-f9ecb715586c",
   "metadata": {},
   "outputs": [],
   "source": [
    "#Quick Sanity Test"
   ]
  },
  {
   "cell_type": "code",
   "execution_count": 138,
   "id": "47a1c500-8d31-4854-a98c-89ce71efefc0",
   "metadata": {},
   "outputs": [
    {
     "name": "stdout",
     "output_type": "stream",
     "text": [
      "🚫 Transaction failed: user_6 tried to send 49 with only 17.599999999999994 tokens.\n",
      "🚫 Transaction failed: user_6 tried to send 46 with only 17.599999999999994 tokens.\n",
      "🚫 Transaction failed: user_6 tried to send 47 with only 17.599999999999994 tokens.\n"
     ]
    }
   ],
   "source": [
    "for _ in range(15):\n",
    "    sender = random.choice(users)\n",
    "    receiver = random.choice([u for u in users if u != sender])\n",
    "    amount = random.randint(1, 50)\n",
    "    tx = create_transaction(sender, receiver, amount)\n",
    "    process_transaction_with_tax(tx)  # <<< Use the taxed version!"
   ]
  },
  {
   "cell_type": "code",
   "execution_count": 140,
   "id": "61ed8c79-4997-433b-95b5-6de0efbb4569",
   "metadata": {},
   "outputs": [
    {
     "data": {
      "text/html": [
       "<div>\n",
       "<style scoped>\n",
       "    .dataframe tbody tr th:only-of-type {\n",
       "        vertical-align: middle;\n",
       "    }\n",
       "\n",
       "    .dataframe tbody tr th {\n",
       "        vertical-align: top;\n",
       "    }\n",
       "\n",
       "    .dataframe thead th {\n",
       "        text-align: right;\n",
       "    }\n",
       "</style>\n",
       "<table border=\"1\" class=\"dataframe\">\n",
       "  <thead>\n",
       "    <tr style=\"text-align: right;\">\n",
       "      <th></th>\n",
       "      <th>User</th>\n",
       "      <th>Balance</th>\n",
       "    </tr>\n",
       "  </thead>\n",
       "  <tbody>\n",
       "    <tr>\n",
       "      <th>0</th>\n",
       "      <td>user_0</td>\n",
       "      <td>17.60</td>\n",
       "    </tr>\n",
       "    <tr>\n",
       "      <th>1</th>\n",
       "      <td>user_1</td>\n",
       "      <td>102.80</td>\n",
       "    </tr>\n",
       "    <tr>\n",
       "      <th>2</th>\n",
       "      <td>user_2</td>\n",
       "      <td>126.55</td>\n",
       "    </tr>\n",
       "    <tr>\n",
       "      <th>3</th>\n",
       "      <td>user_3</td>\n",
       "      <td>146.35</td>\n",
       "    </tr>\n",
       "    <tr>\n",
       "      <th>4</th>\n",
       "      <td>user_4</td>\n",
       "      <td>116.10</td>\n",
       "    </tr>\n",
       "    <tr>\n",
       "      <th>5</th>\n",
       "      <td>user_5</td>\n",
       "      <td>109.80</td>\n",
       "    </tr>\n",
       "    <tr>\n",
       "      <th>6</th>\n",
       "      <td>user_6</td>\n",
       "      <td>17.60</td>\n",
       "    </tr>\n",
       "    <tr>\n",
       "      <th>7</th>\n",
       "      <td>user_7</td>\n",
       "      <td>212.75</td>\n",
       "    </tr>\n",
       "    <tr>\n",
       "      <th>8</th>\n",
       "      <td>user_8</td>\n",
       "      <td>92.60</td>\n",
       "    </tr>\n",
       "    <tr>\n",
       "      <th>9</th>\n",
       "      <td>user_9</td>\n",
       "      <td>83.85</td>\n",
       "    </tr>\n",
       "  </tbody>\n",
       "</table>\n",
       "</div>"
      ],
      "text/plain": [
       "     User  Balance\n",
       "0  user_0    17.60\n",
       "1  user_1   102.80\n",
       "2  user_2   126.55\n",
       "3  user_3   146.35\n",
       "4  user_4   116.10\n",
       "5  user_5   109.80\n",
       "6  user_6    17.60\n",
       "7  user_7   212.75\n",
       "8  user_8    92.60\n",
       "9  user_9    83.85"
      ]
     },
     "metadata": {},
     "output_type": "display_data"
    },
    {
     "name": "stdout",
     "output_type": "stream",
     "text": [
      "🏛️ Treasury Balance: 13.7 tokens\n"
     ]
    }
   ],
   "source": [
    "display(pd.DataFrame(list(balances.items()), columns=[\"User\", \"Balance\"]))\n",
    "print(f\"🏛️ Treasury Balance: {treasury} tokens\")"
   ]
  },
  {
   "cell_type": "code",
   "execution_count": 142,
   "id": "1288176e-5b3c-4a60-9bc4-0e7019a902ba",
   "metadata": {},
   "outputs": [],
   "source": [
    "# Initialize history tracking\n",
    "economy_history = {\n",
    "    'block_height': [],\n",
    "    'treasury_balance': [],\n",
    "    'total_user_tokens': [],\n",
    "    'active_users': [],\n",
    "    'gini_coefficient': []\n",
    "}"
   ]
  },
  {
   "cell_type": "code",
   "execution_count": 144,
   "id": "c09ccd8a-92be-4ab6-a40e-96c05db78826",
   "metadata": {},
   "outputs": [],
   "source": [
    "def record_economy_state():\n",
    "    total_tokens = sum(balances.values())\n",
    "    active = sum(1 for b in balances.values() if b > 0)\n",
    "    # Calculate Gini Coefficient (wealth inequality)\n",
    "    sorted_balances = np.sort(list(balances.values()))\n",
    "    n = len(sorted_balances)\n",
    "    cumulative = np.cumsum(sorted_balances)\n",
    "    gini = (n + 1 - 2 * np.sum(cumulative) / cumulative[-1]) / n if cumulative[-1] > 0 else 0\n",
    "    # Record the state\n",
    "    economy_history['block_height'].append(len(blockchain))\n",
    "    economy_history['treasury_balance'].append(treasury)\n",
    "    economy_history['total_user_tokens'].append(total_tokens)\n",
    "    economy_history['active_users'].append(active)\n",
    "    economy_history['gini_coefficient'].append(gini)"
   ]
  },
  {
   "cell_type": "code",
   "execution_count": 146,
   "id": "36844100-468c-448f-9342-b5a3fa6855ea",
   "metadata": {},
   "outputs": [
    {
     "name": "stdout",
     "output_type": "stream",
     "text": [
      "🚫 Transaction failed: user_6 tried to send 48 with only 10.199999999999996 tokens.\n",
      "🚫 Transaction failed: user_6 tried to send 20 with only 10.199999999999996 tokens.\n",
      "🚫 Transaction failed: user_6 tried to send 32 with only 10.199999999999996 tokens.\n"
     ]
    }
   ],
   "source": [
    "# Example: Record economy state every 10 transactions\n",
    "for _ in range(30):\n",
    "    sender = random.choice(users)\n",
    "    receiver = random.choice([u for u in users if u != sender])\n",
    "    amount = random.randint(1, 50)\n",
    "    tx = create_transaction(sender, receiver, amount)\n",
    "    process_transaction_with_tax(tx)\n",
    "    if _ % 10 == 0:\n",
    "        record_economy_state()"
   ]
  },
  {
   "cell_type": "code",
   "execution_count": 148,
   "id": "d3e42641-a80c-49c8-a448-c581b7a4e6e4",
   "metadata": {},
   "outputs": [],
   "source": [
    "def plot_economy_dashboard():\n",
    "    fig, axs = plt.subplots(2, 2, figsize=(14, 10))\n",
    "    history_df = pd.DataFrame(economy_history)\n",
    "    axs[0, 0].plot(history_df['block_height'], history_df['treasury_balance'], label='Treasury Balance', color='gold')\n",
    "    axs[0, 0].set_title('🏛️ Treasury Over Time')\n",
    "    axs[0, 0].set_xlabel('Block Height')\n",
    "    axs[0, 0].set_ylabel('Tokens')\n",
    "    axs[0, 1].plot(history_df['block_height'], history_df['total_user_tokens'], label='Total User Tokens', color='green')\n",
    "    axs[0, 1].set_title('💰 Total Wealth in Circulation')\n",
    "    axs[0, 1].set_xlabel('Block Height')\n",
    "    axs[0, 1].set_ylabel('Tokens')\n",
    "    axs[1, 0].plot(history_df['block_height'], history_df['active_users'], label='Active Users', color='blue')\n",
    "    axs[1, 0].set_title('👥 Active Users Over Time')\n",
    "    axs[1, 0].set_xlabel('Block Height')\n",
    "    axs[1, 0].set_ylabel('Users')\n",
    "    axs[1, 1].plot(history_df['block_height'], history_df['gini_coefficient'], label='Gini Coefficient', color='red')\n",
    "    axs[1, 1].set_title('⚖️ Wealth Inequality (Gini)')\n",
    "    axs[1, 1].set_xlabel('Block Height')\n",
    "    axs[1, 1].set_ylabel('Gini (0=Equal, 1=Extreme Inequality)')\n",
    "    for ax in axs.flat:\n",
    "        ax.legend()\n",
    "        ax.grid(True)\n",
    "    plt.tight_layout()\n",
    "    plt.show()"
   ]
  },
  {
   "cell_type": "code",
   "execution_count": 150,
   "id": "b7e87801-9e7a-4a22-9e1b-dd9677949817",
   "metadata": {},
   "outputs": [
    {
     "name": "stderr",
     "output_type": "stream",
     "text": [
      "C:\\Users\\aniru\\AppData\\Local\\Temp\\ipykernel_9224\\3096609475.py:23: UserWarning: Glyph 127963 (\\N{CLASSICAL BUILDING}) missing from font(s) DejaVu Sans.\n",
      "  plt.tight_layout()\n",
      "C:\\Users\\aniru\\AppData\\Local\\Temp\\ipykernel_9224\\3096609475.py:23: UserWarning: Glyph 128176 (\\N{MONEY BAG}) missing from font(s) DejaVu Sans.\n",
      "  plt.tight_layout()\n",
      "C:\\Users\\aniru\\AppData\\Local\\Temp\\ipykernel_9224\\3096609475.py:23: UserWarning: Glyph 128101 (\\N{BUSTS IN SILHOUETTE}) missing from font(s) DejaVu Sans.\n",
      "  plt.tight_layout()\n",
      "C:\\Anaconda3\\Lib\\site-packages\\IPython\\core\\pylabtools.py:170: UserWarning: Glyph 127963 (\\N{CLASSICAL BUILDING}) missing from font(s) DejaVu Sans.\n",
      "  fig.canvas.print_figure(bytes_io, **kw)\n",
      "C:\\Anaconda3\\Lib\\site-packages\\IPython\\core\\pylabtools.py:170: UserWarning: Glyph 128176 (\\N{MONEY BAG}) missing from font(s) DejaVu Sans.\n",
      "  fig.canvas.print_figure(bytes_io, **kw)\n",
      "C:\\Anaconda3\\Lib\\site-packages\\IPython\\core\\pylabtools.py:170: UserWarning: Glyph 128101 (\\N{BUSTS IN SILHOUETTE}) missing from font(s) DejaVu Sans.\n",
      "  fig.canvas.print_figure(bytes_io, **kw)\n"
     ]
    },
    {
     "data": {
      "image/png": "[encoded data removed]",
      "text/plain": [
       "<Figure size 1400x1000 with 4 Axes>"
      ]
     },
     "metadata": {},
     "output_type": "display_data"
    }
   ],
   "source": [
    "plot_economy_dashboard()"
   ]
  },
  {
   "cell_type": "code",
   "execution_count": 152,
   "id": "3a473682-f53a-4382-a645-a9a38e124979",
   "metadata": {},
   "outputs": [],
   "source": [
    "# Track behavior stats\n",
    "user_stats = {\n",
    "    user: {'sent': 0, 'received': 0, 'lottery_wins': 0}\n",
    "    for user in users\n",
    "}"
   ]
  },
  {
   "cell_type": "code",
   "execution_count": 154,
   "id": "e82655e2-f05f-48cf-bfac-1d0c94d2d684",
   "metadata": {},
   "outputs": [],
   "source": [
    "def process_transaction_with_tax(tx, tax_rate=0.05):\n",
    "    global treasury\n",
    "    sender = tx['sender']\n",
    "    receiver = tx['receiver']\n",
    "    amount = tx['amount']\n",
    "    tax = round(amount * tax_rate, 2)\n",
    "    amount_after_tax = amount - tax\n",
    "    if balances.get(sender, 0) >= amount:\n",
    "        balances[sender] -= amount\n",
    "        balances[receiver] += amount_after_tax\n",
    "        treasury += tax\n",
    "        user_stats[sender]['sent'] += 1\n",
    "        user_stats[receiver]['received'] += 1\n",
    "        block = {\n",
    "            'transaction': tx,\n",
    "            'tax': tax,\n",
    "            'treasury_balance_after': treasury,\n",
    "            'hash': hash_block(tx)\n",
    "        }\n",
    "        blockchain.append(block)\n",
    "    else:\n",
    "        print(f\"🚫 Transaction failed: {sender} tried to send {amount}, has {balances[sender]}\")"
   ]
  },
  {
   "cell_type": "code",
   "execution_count": 156,
   "id": "13decc49-617a-46a0-bab1-aadb4ba3f49e",
   "metadata": {},
   "outputs": [],
   "source": [
    "def classify_users():\n",
    "    user_classes = {}\n",
    "    for user in users:\n",
    "        balance = balances[user]\n",
    "        sent = user_stats[user]['sent']\n",
    "        received = user_stats[user]['received']\n",
    "        wins = user_stats[user]['lottery_wins']\n",
    "        if balance == 0:\n",
    "            user_classes[user] = \"Zombie 🧟\"\n",
    "        elif sent + received > 10:\n",
    "            user_classes[user] = \"Trader 🔁\"\n",
    "        elif balance > 150 and sent < 3:\n",
    "            user_classes[user] = \"Hoarder 🪙\"\n",
    "        elif wins > 0:\n",
    "            user_classes[user] = \"Gambler 🎲\"\n",
    "        else:\n",
    "            user_classes[user] = \"Citizen 👤\"\n",
    "    return user_classes"
   ]
  },
  {
   "cell_type": "code",
   "execution_count": 158,
   "id": "80c20f23-9495-46d3-9be4-61b438cc5453",
   "metadata": {},
   "outputs": [],
   "source": [
    "def show_user_classes():\n",
    "    user_classes = classify_users()\n",
    "    class_df = pd.DataFrame([\n",
    "        {\n",
    "            'User': user,\n",
    "            'Class': user_classes[user],\n",
    "            'Balance': balances[user],\n",
    "            'Sent TX': user_stats[user]['sent'],\n",
    "            'Received TX': user_stats[user]['received'],\n",
    "            'Lottery Wins': user_stats[user]['lottery_wins']\n",
    "        }\n",
    "        for user in users\n",
    "    ])\n",
    "    display(class_df.sort_values(by=\"Balance\", ascending=False))"
   ]
  },
  {
   "cell_type": "code",
   "execution_count": 160,
   "id": "f71b688d-34fc-4d3c-a279-dc525d824cdf",
   "metadata": {},
   "outputs": [
    {
     "data": {
      "text/html": [
       "<div>\n",
       "<style scoped>\n",
       "    .dataframe tbody tr th:only-of-type {\n",
       "        vertical-align: middle;\n",
       "    }\n",
       "\n",
       "    .dataframe tbody tr th {\n",
       "        vertical-align: top;\n",
       "    }\n",
       "\n",
       "    .dataframe thead th {\n",
       "        text-align: right;\n",
       "    }\n",
       "</style>\n",
       "<table border=\"1\" class=\"dataframe\">\n",
       "  <thead>\n",
       "    <tr style=\"text-align: right;\">\n",
       "      <th></th>\n",
       "      <th>User</th>\n",
       "      <th>Class</th>\n",
       "      <th>Balance</th>\n",
       "      <th>Sent TX</th>\n",
       "      <th>Received TX</th>\n",
       "      <th>Lottery Wins</th>\n",
       "    </tr>\n",
       "  </thead>\n",
       "  <tbody>\n",
       "    <tr>\n",
       "      <th>7</th>\n",
       "      <td>user_7</td>\n",
       "      <td>Hoarder 🪙</td>\n",
       "      <td>206.50</td>\n",
       "      <td>0</td>\n",
       "      <td>0</td>\n",
       "      <td>0</td>\n",
       "    </tr>\n",
       "    <tr>\n",
       "      <th>2</th>\n",
       "      <td>user_2</td>\n",
       "      <td>Citizen 👤</td>\n",
       "      <td>140.20</td>\n",
       "      <td>0</td>\n",
       "      <td>0</td>\n",
       "      <td>0</td>\n",
       "    </tr>\n",
       "    <tr>\n",
       "      <th>6</th>\n",
       "      <td>user_6</td>\n",
       "      <td>Citizen 👤</td>\n",
       "      <td>124.20</td>\n",
       "      <td>0</td>\n",
       "      <td>0</td>\n",
       "      <td>0</td>\n",
       "    </tr>\n",
       "    <tr>\n",
       "      <th>4</th>\n",
       "      <td>user_4</td>\n",
       "      <td>Citizen 👤</td>\n",
       "      <td>113.00</td>\n",
       "      <td>0</td>\n",
       "      <td>0</td>\n",
       "      <td>0</td>\n",
       "    </tr>\n",
       "    <tr>\n",
       "      <th>3</th>\n",
       "      <td>user_3</td>\n",
       "      <td>Citizen 👤</td>\n",
       "      <td>110.85</td>\n",
       "      <td>0</td>\n",
       "      <td>0</td>\n",
       "      <td>0</td>\n",
       "    </tr>\n",
       "    <tr>\n",
       "      <th>5</th>\n",
       "      <td>user_5</td>\n",
       "      <td>Citizen 👤</td>\n",
       "      <td>88.50</td>\n",
       "      <td>0</td>\n",
       "      <td>0</td>\n",
       "      <td>0</td>\n",
       "    </tr>\n",
       "    <tr>\n",
       "      <th>8</th>\n",
       "      <td>user_8</td>\n",
       "      <td>Citizen 👤</td>\n",
       "      <td>85.60</td>\n",
       "      <td>0</td>\n",
       "      <td>0</td>\n",
       "      <td>0</td>\n",
       "    </tr>\n",
       "    <tr>\n",
       "      <th>1</th>\n",
       "      <td>user_1</td>\n",
       "      <td>Citizen 👤</td>\n",
       "      <td>81.10</td>\n",
       "      <td>0</td>\n",
       "      <td>0</td>\n",
       "      <td>0</td>\n",
       "    </tr>\n",
       "    <tr>\n",
       "      <th>9</th>\n",
       "      <td>user_9</td>\n",
       "      <td>Citizen 👤</td>\n",
       "      <td>21.20</td>\n",
       "      <td>0</td>\n",
       "      <td>0</td>\n",
       "      <td>0</td>\n",
       "    </tr>\n",
       "    <tr>\n",
       "      <th>0</th>\n",
       "      <td>user_0</td>\n",
       "      <td>Citizen 👤</td>\n",
       "      <td>20.95</td>\n",
       "      <td>0</td>\n",
       "      <td>0</td>\n",
       "      <td>0</td>\n",
       "    </tr>\n",
       "  </tbody>\n",
       "</table>\n",
       "</div>"
      ],
      "text/plain": [
       "     User      Class  Balance  Sent TX  Received TX  Lottery Wins\n",
       "7  user_7  Hoarder 🪙   206.50        0            0             0\n",
       "2  user_2  Citizen 👤   140.20        0            0             0\n",
       "6  user_6  Citizen 👤   124.20        0            0             0\n",
       "4  user_4  Citizen 👤   113.00        0            0             0\n",
       "3  user_3  Citizen 👤   110.85        0            0             0\n",
       "5  user_5  Citizen 👤    88.50        0            0             0\n",
       "8  user_8  Citizen 👤    85.60        0            0             0\n",
       "1  user_1  Citizen 👤    81.10        0            0             0\n",
       "9  user_9  Citizen 👤    21.20        0            0             0\n",
       "0  user_0  Citizen 👤    20.95        0            0             0"
      ]
     },
     "metadata": {},
     "output_type": "display_data"
    }
   ],
   "source": [
    "show_user_classes()"
   ]
  },
  {
   "cell_type": "code",
   "execution_count": 162,
   "id": "7987cf54-b39b-4580-b083-fe1ea7d067de",
   "metadata": {},
   "outputs": [],
   "source": [
    "# Random Events Engine"
   ]
  },
  {
   "cell_type": "code",
   "execution_count": 164,
   "id": "e399746a-fc2a-48f7-bbe0-3e4ef2895434",
   "metadata": {},
   "outputs": [],
   "source": [
    "def run_random_event():\n",
    "    global treasury\n",
    "    event = random.choice([\n",
    "        \"airdrop_to_poor\",\n",
    "        \"treasury_hack\",\n",
    "        \"hoarder_penalty\",\n",
    "        \"gambler_luck\",\n",
    "        \"tax_bonus_week\",\n",
    "        \"wealth_rebalance\",\n",
    "        \"burn_tokens\",\n",
    "        \"universal_income\",\n",
    "        \"fake_nft_crash\"\n",
    "    ])\n",
    "    print(f\"🎲 RANDOM EVENT: {event.replace('_', ' ').title()}\")\n",
    "    if event == \"airdrop_to_poor\":\n",
    "        for user, balance in balances.items():\n",
    "            if balance < 50:\n",
    "                balances[user] += 20\n",
    "        print(\"💸 Airdrop: Poor users received +20 tokens.\")\n",
    "    elif event == \"treasury_hack\":\n",
    "        stolen = round(treasury * 0.5, 2)\n",
    "        treasury -= stolen\n",
    "        hacker = random.choice(users)\n",
    "        balances[hacker] += stolen\n",
    "        print(f\"💀 Treasury Hack: {hacker} stole {stolen} tokens!\")\n",
    "    elif event == \"hoarder_penalty\":\n",
    "        for user, balance in balances.items():\n",
    "            if balance > 150:\n",
    "                penalty = 10\n",
    "                balances[user] -= penalty\n",
    "                treasury += penalty\n",
    "        print(\"🪙 Hoarders lost 10 tokens each to a wealth tax.\")\n",
    "    elif event == \"gambler_luck\":\n",
    "        lucky = random.choice(users)\n",
    "        balances[lucky] += 50\n",
    "        user_stats[lucky]['lottery_wins'] += 1\n",
    "        print(f\"🎰 Gambler Luck: {lucky} won 50 tokens out of nowhere.\")\n",
    "    elif event == \"tax_bonus_week\":\n",
    "        treasury += 100\n",
    "        print(\"🏛️ Stimulus: Treasury magically grew by 100 tokens.\")\n",
    "    elif event == \"wealth_rebalance\":\n",
    "        # Flatten the curve: take from rich, give to poor\n",
    "        rich = [u for u, b in balances.items() if b > 140]\n",
    "        poor = [u for u, b in balances.items() if b < 60]\n",
    "        for r in rich:\n",
    "            balances[r] -= 15\n",
    "        for p in poor:\n",
    "            balances[p] += 15\n",
    "        print(\"⚖️ Wealth Rebalance: 15 tokens moved from rich to poor.\")\n",
    "    elif event == \"burn_tokens\":\n",
    "        # Burn 5% of all user balances\n",
    "        for u in balances:\n",
    "            balances[u] = round(balances[u] * 0.95, 2)\n",
    "        print(\"🔥 Token Burn: 5% of all tokens gone.\")\n",
    "    elif event == \"universal_income\":\n",
    "        for u in balances:\n",
    "            balances[u] += 10\n",
    "        print(\"💰 UBI: All users gained +10 tokens.\")\n",
    "    elif event == \"fake_nft_crash\":\n",
    "        victim = random.choice(users)\n",
    "        loss = min(30, balances[victim])\n",
    "        balances[victim] -= loss\n",
    "        print(f\"🖼️ NFT Market Crash: {victim} lost {loss} tokens in a JPEG-based financial crisis.\")\n",
    "    record_economy_state()"
   ]
  },
  {
   "cell_type": "code",
   "execution_count": 166,
   "id": "5d01373c-6c46-4864-85df-9c4b45593bc0",
   "metadata": {},
   "outputs": [
    {
     "name": "stdout",
     "output_type": "stream",
     "text": [
      "🎲 RANDOM EVENT: Tax Bonus Week\n",
      "🏛️ Stimulus: Treasury magically grew by 100 tokens.\n"
     ]
    }
   ],
   "source": [
    "run_random_event()"
   ]
  },
  {
   "cell_type": "code",
   "execution_count": 168,
   "id": "5fea863f-0d15-4b03-83d6-669616c9b6c9",
   "metadata": {},
   "outputs": [
    {
     "name": "stdout",
     "output_type": "stream",
     "text": [
      "🎲 RANDOM EVENT: Tax Bonus Week\n",
      "🏛️ Stimulus: Treasury magically grew by 100 tokens.\n",
      "🚫 Transaction failed: user_0 tried to send 36, has 20.950000000000003\n",
      "🎲 RANDOM EVENT: Treasury Hack\n",
      "💀 Treasury Hack: user_3 stole 131.28 tokens!\n",
      "🎲 RANDOM EVENT: Fake Nft Crash\n",
      "🖼️ NFT Market Crash: user_8 lost 30 tokens in a JPEG-based financial crisis.\n"
     ]
    }
   ],
   "source": [
    "for i in range(30):\n",
    "    sender = random.choice(users)\n",
    "    receiver = random.choice([u for u in users if u != sender])\n",
    "    amount = random.randint(1, 50)\n",
    "    tx = create_transaction(sender, receiver, amount)\n",
    "    process_transaction_with_tax(tx)\n",
    "    if i % 10 == 0:\n",
    "        run_random_event()"
   ]
  },
  {
   "cell_type": "code",
   "execution_count": 170,
   "id": "006a38b9-07ea-4b12-95b5-3dfa37fdb604",
   "metadata": {},
   "outputs": [
    {
     "name": "stderr",
     "output_type": "stream",
     "text": [
      "C:\\Users\\aniru\\AppData\\Local\\Temp\\ipykernel_9224\\3096609475.py:23: UserWarning: Glyph 127963 (\\N{CLASSICAL BUILDING}) missing from font(s) DejaVu Sans.\n",
      "  plt.tight_layout()\n",
      "C:\\Users\\aniru\\AppData\\Local\\Temp\\ipykernel_9224\\3096609475.py:23: UserWarning: Glyph 128176 (\\N{MONEY BAG}) missing from font(s) DejaVu Sans.\n",
      "  plt.tight_layout()\n",
      "C:\\Users\\aniru\\AppData\\Local\\Temp\\ipykernel_9224\\3096609475.py:23: UserWarning: Glyph 128101 (\\N{BUSTS IN SILHOUETTE}) missing from font(s) DejaVu Sans.\n",
      "  plt.tight_layout()\n",
      "C:\\Anaconda3\\Lib\\site-packages\\IPython\\core\\pylabtools.py:170: UserWarning: Glyph 127963 (\\N{CLASSICAL BUILDING}) missing from font(s) DejaVu Sans.\n",
      "  fig.canvas.print_figure(bytes_io, **kw)\n",
      "C:\\Anaconda3\\Lib\\site-packages\\IPython\\core\\pylabtools.py:170: UserWarning: Glyph 128176 (\\N{MONEY BAG}) missing from font(s) DejaVu Sans.\n",
      "  fig.canvas.print_figure(bytes_io, **kw)\n",
      "C:\\Anaconda3\\Lib\\site-packages\\IPython\\core\\pylabtools.py:170: UserWarning: Glyph 128101 (\\N{BUSTS IN SILHOUETTE}) missing from font(s) DejaVu Sans.\n",
      "  fig.canvas.print_figure(bytes_io, **kw)\n"
     ]
    },
    {
     "data": {
      "image/png": "[encoded data removed]",
      "text/plain": [
       "<Figure size 1400x1000 with 4 Axes>"
      ]
     },
     "metadata": {},
     "output_type": "display_data"
    },
    {
     "data": {
      "text/html": [
       "<div>\n",
       "<style scoped>\n",
       "    .dataframe tbody tr th:only-of-type {\n",
       "        vertical-align: middle;\n",
       "    }\n",
       "\n",
       "    .dataframe tbody tr th {\n",
       "        vertical-align: top;\n",
       "    }\n",
       "\n",
       "    .dataframe thead th {\n",
       "        text-align: right;\n",
       "    }\n",
       "</style>\n",
       "<table border=\"1\" class=\"dataframe\">\n",
       "  <thead>\n",
       "    <tr style=\"text-align: right;\">\n",
       "      <th></th>\n",
       "      <th>User</th>\n",
       "      <th>Class</th>\n",
       "      <th>Balance</th>\n",
       "      <th>Sent TX</th>\n",
       "      <th>Received TX</th>\n",
       "      <th>Lottery Wins</th>\n",
       "    </tr>\n",
       "  </thead>\n",
       "  <tbody>\n",
       "    <tr>\n",
       "      <th>4</th>\n",
       "      <td>user_4</td>\n",
       "      <td>Hoarder 🪙</td>\n",
       "      <td>231.05</td>\n",
       "      <td>1</td>\n",
       "      <td>4</td>\n",
       "      <td>0</td>\n",
       "    </tr>\n",
       "    <tr>\n",
       "      <th>7</th>\n",
       "      <td>user_7</td>\n",
       "      <td>Trader 🔁</td>\n",
       "      <td>177.30</td>\n",
       "      <td>6</td>\n",
       "      <td>6</td>\n",
       "      <td>0</td>\n",
       "    </tr>\n",
       "    <tr>\n",
       "      <th>8</th>\n",
       "      <td>user_8</td>\n",
       "      <td>Citizen 👤</td>\n",
       "      <td>136.80</td>\n",
       "      <td>3</td>\n",
       "      <td>5</td>\n",
       "      <td>0</td>\n",
       "    </tr>\n",
       "    <tr>\n",
       "      <th>0</th>\n",
       "      <td>user_0</td>\n",
       "      <td>Citizen 👤</td>\n",
       "      <td>118.80</td>\n",
       "      <td>0</td>\n",
       "      <td>4</td>\n",
       "      <td>0</td>\n",
       "    </tr>\n",
       "    <tr>\n",
       "      <th>3</th>\n",
       "      <td>user_3</td>\n",
       "      <td>Citizen 👤</td>\n",
       "      <td>107.13</td>\n",
       "      <td>3</td>\n",
       "      <td>0</td>\n",
       "      <td>0</td>\n",
       "    </tr>\n",
       "    <tr>\n",
       "      <th>1</th>\n",
       "      <td>user_1</td>\n",
       "      <td>Citizen 👤</td>\n",
       "      <td>99.45</td>\n",
       "      <td>4</td>\n",
       "      <td>4</td>\n",
       "      <td>0</td>\n",
       "    </tr>\n",
       "    <tr>\n",
       "      <th>5</th>\n",
       "      <td>user_5</td>\n",
       "      <td>Citizen 👤</td>\n",
       "      <td>80.90</td>\n",
       "      <td>3</td>\n",
       "      <td>2</td>\n",
       "      <td>0</td>\n",
       "    </tr>\n",
       "    <tr>\n",
       "      <th>9</th>\n",
       "      <td>user_9</td>\n",
       "      <td>Citizen 👤</td>\n",
       "      <td>55.75</td>\n",
       "      <td>1</td>\n",
       "      <td>3</td>\n",
       "      <td>0</td>\n",
       "    </tr>\n",
       "    <tr>\n",
       "      <th>2</th>\n",
       "      <td>user_2</td>\n",
       "      <td>Citizen 👤</td>\n",
       "      <td>36.65</td>\n",
       "      <td>4</td>\n",
       "      <td>1</td>\n",
       "      <td>0</td>\n",
       "    </tr>\n",
       "    <tr>\n",
       "      <th>6</th>\n",
       "      <td>user_6</td>\n",
       "      <td>Citizen 👤</td>\n",
       "      <td>10.20</td>\n",
       "      <td>4</td>\n",
       "      <td>0</td>\n",
       "      <td>0</td>\n",
       "    </tr>\n",
       "  </tbody>\n",
       "</table>\n",
       "</div>"
      ],
      "text/plain": [
       "     User      Class  Balance  Sent TX  Received TX  Lottery Wins\n",
       "4  user_4  Hoarder 🪙   231.05        1            4             0\n",
       "7  user_7   Trader 🔁   177.30        6            6             0\n",
       "8  user_8  Citizen 👤   136.80        3            5             0\n",
       "0  user_0  Citizen 👤   118.80        0            4             0\n",
       "3  user_3  Citizen 👤   107.13        3            0             0\n",
       "1  user_1  Citizen 👤    99.45        4            4             0\n",
       "5  user_5  Citizen 👤    80.90        3            2             0\n",
       "9  user_9  Citizen 👤    55.75        1            3             0\n",
       "2  user_2  Citizen 👤    36.65        4            1             0\n",
       "6  user_6  Citizen 👤    10.20        4            0             0"
      ]
     },
     "metadata": {},
     "output_type": "display_data"
    }
   ],
   "source": [
    "plot_economy_dashboard()\n",
    "show_user_classes()"
   ]
  },
  {
   "cell_type": "code",
   "execution_count": 172,
   "id": "7a38a1bd-9416-4463-98d1-de3cdba7d407",
   "metadata": {},
   "outputs": [],
   "source": [
    "# SMART USER AGENTS"
   ]
  },
  {
   "cell_type": "code",
   "execution_count": 174,
   "id": "40440fd4-9dc1-4515-80c5-5f8c6d265c27",
   "metadata": {},
   "outputs": [],
   "source": [
    "def user_behavior(user):\n",
    "    balance = balances[user]\n",
    "    sent = user_stats[user]['sent']\n",
    "    received = user_stats[user]['received']\n",
    "    wins = user_stats[user]['lottery_wins']\n",
    "    # Behaviors based on balance and stats\n",
    "    if balance == 0:\n",
    "        return \"beg\"  # Zombie behavior\n",
    "    elif balance < 50:\n",
    "        return random.choice([\"beg\", \"gamble\", \"small_trade\"])\n",
    "    elif balance > 150 and sent < 3:\n",
    "        return random.choice([\"hoard\", \"minimal_trade\"])\n",
    "    elif sent + received > 10:\n",
    "        return random.choice([\"trade\", \"big_trade\"])\n",
    "    elif wins > 0:\n",
    "        return random.choice([\"gamble\", \"high_risk_trade\"])\n",
    "    else:\n",
    "        return random.choice([\"trade\", \"hold\", \"gamble\"])"
   ]
  },
  {
   "cell_type": "code",
   "execution_count": 178,
   "id": "8ba8466c-c243-4042-b3f1-c1af814fdcff",
   "metadata": {},
   "outputs": [],
   "source": [
    "def act_on_behavior(user):\n",
    "    global treasury \n",
    "    action = user_behavior(user)   \n",
    "    if action == \"beg\":\n",
    "        treasury_donation = 5\n",
    "        if treasury >= treasury_donation:\n",
    "            balances[user] += treasury_donation\n",
    "            treasury -= treasury_donation\n",
    "            print(f\"🧟 {user} begged and got {treasury_donation} tokens from treasury.\")\n",
    "    elif action == \"gamble\":\n",
    "        if balances[user] >= 5:\n",
    "            gamble_result = random.choice([-5, 10, 20])\n",
    "            balances[user] += gamble_result\n",
    "            user_stats[user]['lottery_wins'] += 1 if gamble_result > 0 else 0\n",
    "            print(f\"🎲 {user} gambled and {'won' if gamble_result > 0 else 'lost'} {abs(gamble_result)} tokens.\")\n",
    "    elif action == \"small_trade\":\n",
    "        receiver = random.choice([u for u in users if u != user])\n",
    "        amount = random.randint(1, 10)\n",
    "        tx = create_transaction(user, receiver, amount)\n",
    "        process_transaction_with_tax(tx)\n",
    "    elif action == \"big_trade\":\n",
    "        receiver = random.choice([u for u in users if u != user])\n",
    "        amount = random.randint(20, 50)\n",
    "        tx = create_transaction(user, receiver, amount)\n",
    "        process_transaction_with_tax(tx)\n",
    "    elif action == \"hoard\":\n",
    "        print(f\"🪙 {user} is hoarding. No movement this round.\")\n",
    "    elif action == \"minimal_trade\":\n",
    "        if random.random() < 0.2:  # 20% chance they send a tiny transaction\n",
    "            receiver = random.choice([u for u in users if u != user])\n",
    "            amount = 1\n",
    "            tx = create_transaction(user, receiver, amount)\n",
    "            process_transaction_with_tax(tx)\n",
    "    elif action == \"high_risk_trade\":\n",
    "        receiver = random.choice([u for u in users if u != user])\n",
    "        amount = random.randint(30, 70)\n",
    "        tx = create_transaction(user, receiver, amount)\n",
    "        process_transaction_with_tax(tx)\n",
    "    elif action == \"trade\":\n",
    "        receiver = random.choice([u for u in users if u != user])\n",
    "        amount = random.randint(5, 25)\n",
    "        tx = create_transaction(user, receiver, amount)\n",
    "        process_transaction_with_tax(tx)\n",
    "    elif action == \"hold\":\n",
    "        print(f\"🤷 {user} is just holding their coins this round.\")"
   ]
  },
  {
   "cell_type": "code",
   "execution_count": 180,
   "id": "3a90c78c-cfaa-4373-9a3f-63eb07d141df",
   "metadata": {},
   "outputs": [],
   "source": [
    "def run_smart_economy_round():\n",
    "    print(\"=== SMART ECONOMY ROUND START ===\")\n",
    "    for user in users:\n",
    "        act_on_behavior(user)\n",
    "    record_economy_state()\n",
    "    print(\"=== ROUND END ===\")"
   ]
  },
  {
   "cell_type": "code",
   "execution_count": 182,
   "id": "6bbe4d2a-f57e-4069-b278-0d36151053e8",
   "metadata": {},
   "outputs": [
    {
     "name": "stdout",
     "output_type": "stream",
     "text": [
      "=== SMART ECONOMY ROUND START ===\n",
      "🎲 user_0 gambled and won 10 tokens.\n",
      "🤷 user_1 is just holding their coins this round.\n",
      "🧟 user_2 begged and got 5 tokens from treasury.\n",
      "🪙 user_4 is hoarding. No movement this round.\n",
      "🎲 user_5 gambled and won 20 tokens.\n",
      "🧟 user_6 begged and got 5 tokens from treasury.\n",
      "🤷 user_8 is just holding their coins this round.\n",
      "🤷 user_9 is just holding their coins this round.\n",
      "=== ROUND END ===\n",
      "🎲 RANDOM EVENT: Hoarder Penalty\n",
      "🪙 Hoarders lost 10 tokens each to a wealth tax.\n",
      "=== SMART ECONOMY ROUND START ===\n",
      "🤷 user_1 is just holding their coins this round.\n",
      "🎲 user_2 gambled and won 20 tokens.\n",
      "🎲 user_3 gambled and lost 5 tokens.\n",
      "🎲 user_8 gambled and lost 5 tokens.\n",
      "🎲 user_9 gambled and won 20 tokens.\n",
      "=== ROUND END ===\n",
      "🎲 RANDOM EVENT: Universal Income\n",
      "💰 UBI: All users gained +10 tokens.\n",
      "=== SMART ECONOMY ROUND START ===\n",
      "🎲 user_0 gambled and won 20 tokens.\n",
      "🎲 user_1 gambled and won 20 tokens.\n",
      "🎲 user_2 gambled and lost 5 tokens.\n",
      "🎲 user_3 gambled and won 20 tokens.\n",
      "🪙 user_4 is hoarding. No movement this round.\n",
      "🎲 user_5 gambled and won 20 tokens.\n",
      "🎲 user_6 gambled and won 10 tokens.\n",
      "🤷 user_8 is just holding their coins this round.\n",
      "🎲 user_9 gambled and won 20 tokens.\n",
      "=== ROUND END ===\n",
      "🎲 RANDOM EVENT: Airdrop To Poor\n",
      "💸 Airdrop: Poor users received +20 tokens.\n"
     ]
    }
   ],
   "source": [
    "for _ in range(3):\n",
    "    run_smart_economy_round()\n",
    "    run_random_event()"
   ]
  },
  {
   "cell_type": "code",
   "execution_count": 184,
   "id": "901c8c2e-d0f0-4c06-aaec-bc7fc5a101db",
   "metadata": {},
   "outputs": [
    {
     "name": "stderr",
     "output_type": "stream",
     "text": [
      "C:\\Users\\aniru\\AppData\\Local\\Temp\\ipykernel_9224\\3096609475.py:23: UserWarning: Glyph 127963 (\\N{CLASSICAL BUILDING}) missing from font(s) DejaVu Sans.\n",
      "  plt.tight_layout()\n",
      "C:\\Users\\aniru\\AppData\\Local\\Temp\\ipykernel_9224\\3096609475.py:23: UserWarning: Glyph 128176 (\\N{MONEY BAG}) missing from font(s) DejaVu Sans.\n",
      "  plt.tight_layout()\n",
      "C:\\Users\\aniru\\AppData\\Local\\Temp\\ipykernel_9224\\3096609475.py:23: UserWarning: Glyph 128101 (\\N{BUSTS IN SILHOUETTE}) missing from font(s) DejaVu Sans.\n",
      "  plt.tight_layout()\n",
      "C:\\Anaconda3\\Lib\\site-packages\\IPython\\core\\pylabtools.py:170: UserWarning: Glyph 127963 (\\N{CLASSICAL BUILDING}) missing from font(s) DejaVu Sans.\n",
      "  fig.canvas.print_figure(bytes_io, **kw)\n",
      "C:\\Anaconda3\\Lib\\site-packages\\IPython\\core\\pylabtools.py:170: UserWarning: Glyph 128176 (\\N{MONEY BAG}) missing from font(s) DejaVu Sans.\n",
      "  fig.canvas.print_figure(bytes_io, **kw)\n",
      "C:\\Anaconda3\\Lib\\site-packages\\IPython\\core\\pylabtools.py:170: UserWarning: Glyph 128101 (\\N{BUSTS IN SILHOUETTE}) missing from font(s) DejaVu Sans.\n",
      "  fig.canvas.print_figure(bytes_io, **kw)\n"
     ]
    },
    {
     "data": {
      "image/png": "[encoded data removed]",
      "text/plain": [
       "<Figure size 1400x1000 with 4 Axes>"
      ]
     },
     "metadata": {},
     "output_type": "display_data"
    },
    {
     "data": {
      "text/html": [
       "<div>\n",
       "<style scoped>\n",
       "    .dataframe tbody tr th:only-of-type {\n",
       "        vertical-align: middle;\n",
       "    }\n",
       "\n",
       "    .dataframe tbody tr th {\n",
       "        vertical-align: top;\n",
       "    }\n",
       "\n",
       "    .dataframe thead th {\n",
       "        text-align: right;\n",
       "    }\n",
       "</style>\n",
       "<table border=\"1\" class=\"dataframe\">\n",
       "  <thead>\n",
       "    <tr style=\"text-align: right;\">\n",
       "      <th></th>\n",
       "      <th>User</th>\n",
       "      <th>Class</th>\n",
       "      <th>Balance</th>\n",
       "      <th>Sent TX</th>\n",
       "      <th>Received TX</th>\n",
       "      <th>Lottery Wins</th>\n",
       "    </tr>\n",
       "  </thead>\n",
       "  <tbody>\n",
       "    <tr>\n",
       "      <th>4</th>\n",
       "      <td>user_4</td>\n",
       "      <td>Hoarder 🪙</td>\n",
       "      <td>231.05</td>\n",
       "      <td>1</td>\n",
       "      <td>4</td>\n",
       "      <td>0</td>\n",
       "    </tr>\n",
       "    <tr>\n",
       "      <th>3</th>\n",
       "      <td>user_3</td>\n",
       "      <td>Gambler 🎲</td>\n",
       "      <td>183.93</td>\n",
       "      <td>4</td>\n",
       "      <td>2</td>\n",
       "      <td>1</td>\n",
       "    </tr>\n",
       "    <tr>\n",
       "      <th>8</th>\n",
       "      <td>user_8</td>\n",
       "      <td>Citizen 👤</td>\n",
       "      <td>173.15</td>\n",
       "      <td>3</td>\n",
       "      <td>6</td>\n",
       "      <td>0</td>\n",
       "    </tr>\n",
       "    <tr>\n",
       "      <th>0</th>\n",
       "      <td>user_0</td>\n",
       "      <td>Hoarder 🪙</td>\n",
       "      <td>153.35</td>\n",
       "      <td>1</td>\n",
       "      <td>5</td>\n",
       "      <td>2</td>\n",
       "    </tr>\n",
       "    <tr>\n",
       "      <th>1</th>\n",
       "      <td>user_1</td>\n",
       "      <td>Gambler 🎲</td>\n",
       "      <td>135.15</td>\n",
       "      <td>4</td>\n",
       "      <td>5</td>\n",
       "      <td>1</td>\n",
       "    </tr>\n",
       "    <tr>\n",
       "      <th>7</th>\n",
       "      <td>user_7</td>\n",
       "      <td>Trader 🔁</td>\n",
       "      <td>116.30</td>\n",
       "      <td>9</td>\n",
       "      <td>6</td>\n",
       "      <td>0</td>\n",
       "    </tr>\n",
       "    <tr>\n",
       "      <th>9</th>\n",
       "      <td>user_9</td>\n",
       "      <td>Gambler 🎲</td>\n",
       "      <td>105.75</td>\n",
       "      <td>1</td>\n",
       "      <td>3</td>\n",
       "      <td>2</td>\n",
       "    </tr>\n",
       "    <tr>\n",
       "      <th>2</th>\n",
       "      <td>user_2</td>\n",
       "      <td>Gambler 🎲</td>\n",
       "      <td>91.35</td>\n",
       "      <td>4</td>\n",
       "      <td>2</td>\n",
       "      <td>1</td>\n",
       "    </tr>\n",
       "    <tr>\n",
       "      <th>5</th>\n",
       "      <td>user_5</td>\n",
       "      <td>Gambler 🎲</td>\n",
       "      <td>84.45</td>\n",
       "      <td>4</td>\n",
       "      <td>3</td>\n",
       "      <td>2</td>\n",
       "    </tr>\n",
       "    <tr>\n",
       "      <th>6</th>\n",
       "      <td>user_6</td>\n",
       "      <td>Gambler 🎲</td>\n",
       "      <td>46.20</td>\n",
       "      <td>5</td>\n",
       "      <td>0</td>\n",
       "      <td>1</td>\n",
       "    </tr>\n",
       "  </tbody>\n",
       "</table>\n",
       "</div>"
      ],
      "text/plain": [
       "     User      Class  Balance  Sent TX  Received TX  Lottery Wins\n",
       "4  user_4  Hoarder 🪙   231.05        1            4             0\n",
       "3  user_3  Gambler 🎲   183.93        4            2             1\n",
       "8  user_8  Citizen 👤   173.15        3            6             0\n",
       "0  user_0  Hoarder 🪙   153.35        1            5             2\n",
       "1  user_1  Gambler 🎲   135.15        4            5             1\n",
       "7  user_7   Trader 🔁   116.30        9            6             0\n",
       "9  user_9  Gambler 🎲   105.75        1            3             2\n",
       "2  user_2  Gambler 🎲    91.35        4            2             1\n",
       "5  user_5  Gambler 🎲    84.45        4            3             2\n",
       "6  user_6  Gambler 🎲    46.20        5            0             1"
      ]
     },
     "metadata": {},
     "output_type": "display_data"
    }
   ],
   "source": [
    "plot_economy_dashboard()\n",
    "show_user_classes()"
   ]
  },
  {
   "cell_type": "code",
   "execution_count": 186,
   "id": "378be00a-9913-40ff-bcaf-036314546086",
   "metadata": {},
   "outputs": [],
   "source": [
    "# SMART PROPOSAL GENERATOR"
   ]
  },
  {
   "cell_type": "code",
   "execution_count": 188,
   "id": "e72e6da6-8f5f-43cf-b057-98c2c1c90ad1",
   "metadata": {},
   "outputs": [],
   "source": [
    "def generate_policy_proposal():\n",
    "    actions = [\n",
    "        \"increase rewards\", \"decrease rewards\", \"penalize\", \"tax\", \"subsidize\", \n",
    "        \"airdrop\", \"burn\", \"redistribute\", \"freeze\", \"lottery\"\n",
    "    ]\n",
    "    targets = [\n",
    "        \"new users\", \"hoarders\", \"frequent traders\", \"inactive accounts\", \n",
    "        \"random wallets\", \"top 10% of rich users\", \"poor users\", \"all users\"\n",
    "    ]\n",
    "    conditions = [\n",
    "        \"weekly\", \"monthly\", \"if inflation exceeds 10%\", \"during economic crashes\", \n",
    "        \"after a hack\", \"once per season\", \"after every 100 transactions\"\n",
    "    ]\n",
    "    action = random.choice(actions)\n",
    "    target = random.choice(targets)\n",
    "    condition = random.choice(conditions)\n",
    "    return f\"{action.capitalize()} for {target} {condition}.\""
   ]
  },
  {
   "cell_type": "code",
   "execution_count": 190,
   "id": "a2047221-3928-438d-a08c-24bb779a186e",
   "metadata": {},
   "outputs": [],
   "source": [
    "def evaluate_policy_with_ai(proposal):\n",
    "    evaluation = query_local_ai(f\"Evaluate this crypto policy: {proposal}\")\n",
    "    return evaluation"
   ]
  },
  {
   "cell_type": "code",
   "execution_count": 192,
   "id": "d5a249f2-a64b-4139-8305-4b231a1e88b9",
   "metadata": {},
   "outputs": [],
   "source": [
    "def propose_and_apply_policy():\n",
    "    proposal = generate_policy_proposal()\n",
    "    print(f\"📜 New Proposed Policy: {proposal}\")\n",
    "    evaluation = evaluate_policy_with_ai(proposal)\n",
    "    print(f\"🤖 AI Evaluation:\\n{evaluation}\")\n",
    "    if \"pros\" in evaluation.lower() or \"recommendation\" in evaluation.lower():\n",
    "        apply_policy_effect(proposal)\n",
    "        print(\"✅ Policy Applied to Economy.\")\n",
    "    else:\n",
    "        print(\"🚫 Policy Rejected: AI did not endorse.\")\n",
    "    record_economy_state()"
   ]
  },
  {
   "cell_type": "code",
   "execution_count": 194,
   "id": "bd9ae204-5b1d-4759-b937-2d511c529aa3",
   "metadata": {},
   "outputs": [
    {
     "name": "stderr",
     "output_type": "stream",
     "text": [
      "Setting `pad_token_id` to `eos_token_id`:50256 for open-end generation.\n"
     ]
    },
    {
     "name": "stdout",
     "output_type": "stream",
     "text": [
      "📜 New Proposed Policy: Burn for new users monthly.\n"
     ]
    },
    {
     "name": "stderr",
     "output_type": "stream",
     "text": [
      "Setting `pad_token_id` to `eos_token_id`:50256 for open-end generation.\n"
     ]
    },
    {
     "name": "stdout",
     "output_type": "stream",
     "text": [
      "🤖 AI Evaluation:\n",
      "Policy Proposal: Evaluate this crypto policy: Burn for new users monthly.\n",
      "Assessment:\n",
      "- Pros:\n",
      "- Cons:\n",
      "- Recommendation:\n",
      "- Cons:\n",
      "- Pros:\n",
      "- Cons:\n",
      "- Cons:\n",
      "- Pros:\n",
      "- Cons:\n",
      "- Cons:\n",
      "- Cons:\n",
      "- Cons:\n",
      "- Cons:\n",
      "- Cons:\n",
      "- Cons:\n",
      "- Cons:\n",
      "- Cons:\n",
      "- Cons:\n",
      "- Cons:\n",
      "- Cons:\n",
      "- Cons:\n",
      "- Cons:\n",
      "- Cons:\n",
      "- Cons:\n",
      "- Cons:\n",
      "- Cons:\n",
      "- Cons:\n",
      "- Cons:\n",
      "- Cons:\n",
      "- Cons:\n",
      "- Cons:\n",
      "- Cons:\n",
      "\n",
      "🤷 No economic action taken (AI unclear or boring policy).\n",
      "✅ Policy Applied to Economy.\n",
      "📜 New Proposed Policy: Redistribute for new users monthly.\n"
     ]
    },
    {
     "name": "stderr",
     "output_type": "stream",
     "text": [
      "Setting `pad_token_id` to `eos_token_id`:50256 for open-end generation.\n"
     ]
    },
    {
     "name": "stdout",
     "output_type": "stream",
     "text": [
      "🤖 AI Evaluation:\n",
      "Policy Proposal: Evaluate this crypto policy: Redistribute for new users monthly.\n",
      "Assessment:\n",
      "- Pros:\n",
      "- Cons:\n",
      "- Recommendation:\n",
      "- Cons:\n",
      "- Cons:\n",
      "- Cons:\n",
      "- Cons:\n",
      "- Cons:\n",
      "- Cons:\n",
      "- Cons:\n",
      "- Cons:\n",
      "- Cons:\n",
      "- Cons:\n",
      "- Cons:\n",
      "- Cons:\n",
      "- Cons:\n",
      "- Cons:\n",
      "- Cons:\n",
      "- Cons:\n",
      "- Cons:\n",
      "- Cons:\n",
      "- Cons:\n",
      "- Cons:\n",
      "- Cons:\n",
      "- Cons:\n",
      "- Cons:\n",
      "- Cons:\n",
      "- Cons:\n",
      "- Cons:\n",
      "- Cons:\n",
      "- Cons:\n",
      "- Cons\n",
      "🤷 No economic action taken (AI unclear or boring policy).\n",
      "✅ Policy Applied to Economy.\n",
      "📜 New Proposed Policy: Airdrop for all users once per season.\n",
      "🤖 AI Evaluation:\n",
      "Policy Proposal: Evaluate this crypto policy: Airdrop for all users once per season.\n",
      "Assessment:\n",
      "- Pros:\n",
      "- Cons:\n",
      "- Recommendation:\n",
      "- Reviewer:\n",
      "- Reviewer's Comment:\n",
      "Adopted:\n",
      "- Proposal: Evaluate this crypto policy: Airdrop for all users once per season.Cons:\n",
      "🤷 No economic action taken (AI unclear or boring policy).\n",
      "✅ Policy Applied to Economy.\n"
     ]
    }
   ],
   "source": [
    "for _ in range(3):\n",
    "    propose_and_apply_policy()"
   ]
  },
  {
   "cell_type": "code",
   "execution_count": 196,
   "id": "c01cb3a3-2580-484a-85e8-9fa0fc4bb00e",
   "metadata": {},
   "outputs": [],
   "source": [
    "# Governance Voting"
   ]
  },
  {
   "cell_type": "code",
   "execution_count": 198,
   "id": "f3940a6c-f5d8-488b-9b5c-5df1ad48bbd3",
   "metadata": {},
   "outputs": [],
   "source": [
    "def user_vote(user, proposal):\n",
    "    user_classification = classify_users()[user]\n",
    "    # Simple psychology based on class\n",
    "    if \"Hoarder\" in user_classification:\n",
    "        # Hoarders resist taxes and penalties\n",
    "        if any(word in proposal.lower() for word in [\"penalize\", \"tax\", \"burn\"]):\n",
    "            return \"no\"\n",
    "        else:\n",
    "            return \"yes\"\n",
    "    elif \"Trader\" in user_classification:\n",
    "        # Traders love liquidity and bonuses\n",
    "        if any(word in proposal.lower() for word in [\"increase rewards\", \"airdrop\", \"lottery\", \"subsidize\"]):\n",
    "            return \"yes\"\n",
    "        else:\n",
    "            return random.choice([\"yes\", \"no\"])\n",
    "    elif \"Gambler\" in user_classification:\n",
    "        # Gamblers say yes to everything chaotic\n",
    "        return random.choice([\"yes\", \"yes\", \"no\"])\n",
    "    elif \"Zombie\" in user_classification:\n",
    "        # Zombies don't vote (they're broke and sad)\n",
    "        return \"abstain\"\n",
    "    else:\n",
    "        # Citizens are split\n",
    "        return random.choice([\"yes\", \"no\"])"
   ]
  },
  {
   "cell_type": "code",
   "execution_count": 200,
   "id": "4fce181e-629a-4071-829e-7c3eaa0b58b8",
   "metadata": {},
   "outputs": [],
   "source": [
    "def tally_votes(proposal):\n",
    "    votes = {\"yes\": 0, \"no\": 0, \"abstain\": 0}\n",
    "    for user in users:\n",
    "        vote = user_vote(user, proposal)\n",
    "        votes[vote] += 1\n",
    "    print(f\"🗳️ Voting Results: {votes}\")\n",
    "    return votes"
   ]
  },
  {
   "cell_type": "code",
   "execution_count": 202,
   "id": "ecd568b0-1648-4f61-83f9-d24d1972bad3",
   "metadata": {},
   "outputs": [],
   "source": [
    "def policy_decision_from_votes(votes):\n",
    "    total_votes = votes['yes'] + votes['no']\n",
    "    if total_votes == 0:\n",
    "        print(\"⚠️ No votes cast. Policy rejected by apathy.\")\n",
    "        return False\n",
    "    approval_rate = votes['yes'] / total_votes\n",
    "    if approval_rate >= 0.5:\n",
    "        print(f\"✅ Policy approved with {approval_rate*100:.2f}% yes votes.\")\n",
    "        return True\n",
    "    else:\n",
    "        print(f\"🚫 Policy rejected with only {approval_rate*100:.2f}% yes votes.\")\n",
    "        return False"
   ]
  },
  {
   "cell_type": "code",
   "execution_count": 204,
   "id": "aaf6d1b2-4a09-4a52-8f14-bc94fd2254fa",
   "metadata": {},
   "outputs": [],
   "source": [
    "def propose_vote_and_apply_policy():\n",
    "    proposal = generate_policy_proposal()\n",
    "    print(f\"\\n📜 New Proposed Policy: {proposal}\")\n",
    "    votes = tally_votes(proposal)\n",
    "    approved = policy_decision_from_votes(votes)\n",
    "    if approved:\n",
    "        evaluation = evaluate_policy_with_ai(proposal)\n",
    "        print(f\"🤖 AI Evaluation:\\n{evaluation}\")\n",
    "        if \"pros\" in evaluation.lower() or \"recommendation\" in evaluation.lower():\n",
    "            apply_policy_effect(proposal)\n",
    "            print(\"✅ Policy Applied to Economy.\")\n",
    "        else:\n",
    "            print(\"🤖 AI rejected the proposal after voting. No action taken.\")\n",
    "    else:\n",
    "        print(\"🚫 Policy rejected. No action.\")\n",
    "    record_economy_state()"
   ]
  },
  {
   "cell_type": "code",
   "execution_count": 206,
   "id": "c51f5dad-440e-45d1-8739-6963c5f8b455",
   "metadata": {},
   "outputs": [
    {
     "name": "stderr",
     "output_type": "stream",
     "text": [
      "Setting `pad_token_id` to `eos_token_id`:50256 for open-end generation.\n"
     ]
    },
    {
     "name": "stdout",
     "output_type": "stream",
     "text": [
      "\n",
      "📜 New Proposed Policy: Burn for poor users during economic crashes.\n",
      "🗳️ Voting Results: {'yes': 5, 'no': 5, 'abstain': 0}\n",
      "✅ Policy approved with 50.00% yes votes.\n"
     ]
    },
    {
     "name": "stderr",
     "output_type": "stream",
     "text": [
      "Setting `pad_token_id` to `eos_token_id`:50256 for open-end generation.\n"
     ]
    },
    {
     "name": "stdout",
     "output_type": "stream",
     "text": [
      "🤖 AI Evaluation:\n",
      "Policy Proposal: Evaluate this crypto policy: Burn for poor users during economic crashes.\n",
      "Assessment:\n",
      "- Pros:\n",
      "- Cons:\n",
      "- Recommendation:\n",
      "- Recommendation:\n",
      "- Cons:\n",
      "- Cons:\n",
      "- Recommendation:\n",
      "- Cons:\n",
      "- Cons:\n",
      "- Cons:\n",
      "- Cons:\n",
      "- Cons:\n",
      "- Cons:\n",
      "Cons:\n",
      "- Cons:\n",
      "Cons:\n",
      "- Cons:\n",
      "Pros:\n",
      "- Cons:\n",
      "Cons:\n",
      "- Cons:\n",
      "Cons:\n",
      "Pros:\n",
      "Cons:\n",
      "Cons:\n",
      "Cons:\n",
      "Cons:\n",
      "Cons:\n",
      "Cons: Cons:\n",
      "Cons:\n",
      "Cons: Cons:\n",
      "Pros:\n",
      "Pros:\n",
      "Cons:\n",
      "Cons\n",
      "🤷 No economic action taken (AI unclear or boring policy).\n",
      "✅ Policy Applied to Economy.\n",
      "\n",
      "📜 New Proposed Policy: Decrease rewards for inactive accounts after a hack.\n",
      "🗳️ Voting Results: {'yes': 7, 'no': 3, 'abstain': 0}\n",
      "✅ Policy approved with 70.00% yes votes.\n"
     ]
    },
    {
     "name": "stderr",
     "output_type": "stream",
     "text": [
      "Setting `pad_token_id` to `eos_token_id`:50256 for open-end generation.\n"
     ]
    },
    {
     "name": "stdout",
     "output_type": "stream",
     "text": [
      "🤖 AI Evaluation:\n",
      "Policy Proposal: Evaluate this crypto policy: Decrease rewards for inactive accounts after a hack.\n",
      "Assessment:\n",
      "- Pros:\n",
      "- Cons:\n",
      "- Recommendation:\n",
      "- Cons:\n",
      "The crypto policy was developed in the last 5 years and it is not implemented in a mature way.\n",
      "Pros:\n",
      "- Cons:\n",
      "- Cons:\n",
      "- Cons:\n",
      "Pros:\n",
      "- Cons:\n",
      "Pros:\n",
      "- Cons:\n",
      "Pros:\n",
      "Pros:\n",
      "Pros:\n",
      "Cons:\n",
      "Pros:\n",
      "Cons:\n",
      "Pros:\n",
      "Cons:\n",
      "Pros:\n",
      "Pros:\n",
      "Pros:\n",
      "Pros:\n",
      "Pros:\n",
      "Pros:\n",
      "Pros:\n",
      "Pros:\n",
      "Pros:\n",
      "Pros:\n",
      "Pros:\n",
      "Pros\n",
      "🤷 No economic action taken (AI unclear or boring policy).\n",
      "✅ Policy Applied to Economy.\n",
      "\n",
      "📜 New Proposed Policy: Airdrop for random wallets once per season.\n",
      "🗳️ Voting Results: {'yes': 7, 'no': 3, 'abstain': 0}\n",
      "✅ Policy approved with 70.00% yes votes.\n",
      "🤖 AI Evaluation:\n",
      "Policy Proposal: Evaluate this crypto policy: Airdrop for random wallets once per season.\n",
      "Assessment:\n",
      "- Pros:\n",
      "- Cons:\n",
      "- Recommendation:\n",
      "- Proposal not given, no evidence to support it.\n",
      "- Recommendation given to Coinhive for verification of the PoW PoW PoW PoW PoW POW PoW PoW PoW PoW PoW PoW PoW PoW PoW PoW PoW PoW PoW PoW PoW PoW PoW PoW PoW PoW PoW PoW PoW PoW PoW PoW PoW PoW PoW PoW PoW PoW PoW PoW PoW PoW PoW Po\n",
      "🤷 No economic action taken (AI unclear or boring policy).\n",
      "✅ Policy Applied to Economy.\n"
     ]
    }
   ],
   "source": [
    "for _ in range(3):\n",
    "    propose_vote_and_apply_policy()"
   ]
  },
  {
   "cell_type": "code",
   "execution_count": 208,
   "id": "a392eb3f-779d-4447-9236-50bcb4077bbc",
   "metadata": {},
   "outputs": [],
   "source": [
    "# STREAMLIT DASHBOARD GO"
   ]
  },
  {
   "cell_type": "code",
   "execution_count": 210,
   "id": "ebf8e502-8944-4133-884d-bb2245537f89",
   "metadata": {},
   "outputs": [
    {
     "name": "stderr",
     "output_type": "stream",
     "text": [
      "2025-04-25 15:22:49.662 \n",
      "  \u001b[33m\u001b[1mWarning:\u001b[0m to view this Streamlit app on a browser, run it with the following\n",
      "  command:\n",
      "\n",
      "    streamlit run C:\\Anaconda3\\Lib\\site-packages\\ipykernel_launcher.py [ARGUMENTS]\n"
     ]
    }
   ],
   "source": [
    "# Dummy economy history if needed\n",
    "economy_history = {\n",
    "    'block_height': [],\n",
    "    'treasury_balance': [],\n",
    "    'total_user_tokens': [],\n",
    "    'active_users': [],\n",
    "    'gini_coefficient': []\n",
    "}\n",
    "st.set_page_config(page_title=\"Fake Crypto Economy\", layout=\"wide\")\n",
    "st.title(\"🏛️ Fake Crypto Economy Simulator\")\n",
    "# Sidebar Controls\n",
    "with st.sidebar:\n",
    "    st.header(\"Simulation Controls\")\n",
    "    if st.button(\"📜 Propose + Vote on Policy\"):\n",
    "        propose_vote_and_apply_policy()\n",
    "    if st.button(\"🎲 Trigger Random Event\"):\n",
    "        run_random_event()\n",
    "    if st.button(\"🏃‍♂️ Run Smart economy Round\"):\n",
    "        run_smart_economy_round()\n",
    "    if st.button(\"🧹 Reset Economy\"):\n",
    "        st.warning(\"Manual reset not implemented yet. Restart the app.\")\n",
    "# Display Economy Stats\n",
    "st.subheader(\"📊 Economy Overview\")\n",
    "col1, col2, col3, col4 = st.columns(4)\n",
    "col1.metric(\"Treasury Balance\", f\"{treasury} tokens\")\n",
    "col2.metric(\"Total User Tokens\", f\"{sum(balances.values())} tokens\")\n",
    "col3.metric(\"Active Users\", sum(1 for b in balances.values() if b > 0))\n",
    "col4.metric(\"Wealth Inequality (Gini)\", f\"{economy_history['gini_coefficient'][-1]:.2f}\" if economy_history['gini_coefficient'] else \"N/A\")\n",
    "# Plot Economy Dashboard\n",
    "st.subheader(\"📈 Economic Trends\")\n",
    "history_df = pd.DataFrame(economy_history)\n",
    "if not history_df.empty:\n",
    "    fig, axs = plt.subplots(2, 2, figsize=(14, 10))\n",
    "    axs[0, 0].plot(history_df['block_height'], history_df['treasury_balance'], label='Treasury Balance', color='gold')\n",
    "    axs[0, 0].set_title('🏛️ Treasury Over Time')\n",
    "    axs[0, 1].plot(history_df['block_height'], history_df['total_user_tokens'], label='Total User Tokens', color='green')\n",
    "    axs[0, 1].set_title('💰 Total User Wealth')\n",
    "    axs[1, 0].plot(history_df['block_height'], history_df['active_users'], label='Active Users', color='blue')\n",
    "    axs[1, 0].set_title('👥 Active Users')\n",
    "    axs[1, 1].plot(history_df['block_height'], history_df['gini_coefficient'], label='Gini Coefficient', color='red')\n",
    "    axs[1, 1].set_title('⚖️ Wealth Inequality')\n",
    "    for ax in axs.flat:\n",
    "        ax.legend()\n",
    "        ax.grid(True)\n",
    "\n",
    "    plt.tight_layout()\n",
    "    st.pyplot(fig)\n",
    "else:\n",
    "    st.info(\"No economy history recorded yet. Run some simulations first!\")"
   ]
  },
  {
   "cell_type": "code",
   "execution_count": null,
   "id": "e9dddd9c-9f9c-4824-a31d-e7213be95f24",
   "metadata": {},
   "outputs": [],
   "source": []
  }
 ],
 "metadata": {
  "kernelspec": {
   "display_name": "Python [conda env:base] *",
   "language": "python",
   "name": "conda-base-py"
  },
  "language_info": {
   "codemirror_mode": {
    "name": "ipython",
    "version": 3
   },
   "file_extension": ".py",
   "mimetype": "text/x-python",
   "name": "python",
   "nbconvert_exporter": "python",
   "pygments_lexer": "ipython3",
   "version": "3.12.7"
  }
 },
 "nbformat": 4,
 "nbformat_minor": 5
}
